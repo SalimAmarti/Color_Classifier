{
 "cells": [
  {
   "cell_type": "markdown",
   "metadata": {},
   "source": [
    "# Imports"
   ]
  },
  {
   "cell_type": "code",
   "execution_count": 189,
   "metadata": {},
   "outputs": [],
   "source": [
    "import pandas as pd"
   ]
  },
  {
   "cell_type": "code",
   "execution_count": 190,
   "metadata": {},
   "outputs": [],
   "source": [
    "from sklearn.cluster import KMeans\n",
    "import matplotlib.pyplot as plt\n",
    "import numpy as np\n",
    "import cv2\n",
    "from collections import Counter\n",
    "from skimage.color import rgb2lab, deltaE_cie76\n",
    "import os\n",
    "\n",
    "%matplotlib inline"
   ]
  },
  {
   "cell_type": "code",
   "execution_count": 191,
   "metadata": {},
   "outputs": [],
   "source": [
    "import instaloader"
   ]
  },
  {
   "cell_type": "code",
   "execution_count": 192,
   "metadata": {},
   "outputs": [],
   "source": [
    "import glob\n",
    "from PIL import Image\n",
    "import xlsxwriter\n",
    "import os"
   ]
  },
  {
   "cell_type": "code",
   "execution_count": 193,
   "metadata": {},
   "outputs": [],
   "source": [
    "import time as t"
   ]
  },
  {
   "cell_type": "code",
   "execution_count": 194,
   "metadata": {},
   "outputs": [],
   "source": [
    "import colorsys as cs"
   ]
  },
  {
   "cell_type": "code",
   "execution_count": 195,
   "metadata": {},
   "outputs": [],
   "source": [
    "from datetime import datetime\n",
    "from itertools import dropwhile, takewhile"
   ]
  },
  {
   "cell_type": "markdown",
   "metadata": {},
   "source": [
    "# Instagram image extraction + image analysis"
   ]
  },
  {
   "cell_type": "markdown",
   "metadata": {},
   "source": [
    "#### What is the Instagram page name?"
   ]
  },
  {
   "cell_type": "code",
   "execution_count": 228,
   "metadata": {},
   "outputs": [
    {
     "name": "stdout",
     "output_type": "stream",
     "text": [
      "What is the Instagram page name?mcdonalds\n"
     ]
    }
   ],
   "source": [
    "IG_page_name = input('What is the Instagram page name?')"
   ]
  },
  {
   "cell_type": "markdown",
   "metadata": {},
   "source": [
    "#### Instagram image extraction"
   ]
  },
  {
   "cell_type": "code",
   "execution_count": 229,
   "metadata": {},
   "outputs": [],
   "source": [
    "L = instaloader.Instaloader()"
   ]
  },
  {
   "cell_type": "code",
   "execution_count": 230,
   "metadata": {},
   "outputs": [],
   "source": [
    "#L.login(\"login\",\"login\")"
   ]
  },
  {
   "cell_type": "code",
   "execution_count": 231,
   "metadata": {},
   "outputs": [],
   "source": [
    "L = instaloader.Instaloader(download_videos = False,\n",
    "                            download_video_thumbnails = False,\n",
    "                            download_geotags = False,\n",
    "                            download_comments = False,\n",
    "                            save_metadata = False,\n",
    "                            post_metadata_txt_pattern = \"\")\n",
    "profile = instaloader.Profile.from_username(L.context, IG_page_name).get_posts()"
   ]
  },
  {
   "cell_type": "code",
   "execution_count": 202,
   "metadata": {},
   "outputs": [],
   "source": [
    "#SINCE = datetime(2020, 1, 1)\n",
    "#UNTIL = datetime(2020, 12, 31)\n",
    "\n",
    "#for post in takewhile(lambda p: p.date > UNTIL, dropwhile(lambda p: p.date > SINCE, profile)):\n",
    "#    L.download_post(post, IG_page_name)"
   ]
  },
  {
   "cell_type": "code",
   "execution_count": 232,
   "metadata": {},
   "outputs": [
    {
     "name": "stdout",
     "output_type": "stream",
     "text": [
      "mcdonalds/2020-12-31_17-20-42_UTC.jpg \n",
      "mcdonalds/2020-12-23_15-47-54_UTC.jpg \n",
      "mcdonalds/2020-12-22_20-16-18_UTC_1.jpg mcdonalds/2020-12-22_20-16-18_UTC_2.jpg mcdonalds/2020-12-22_20-16-18_UTC_3.jpg mcdonalds/2020-12-22_20-16-18_UTC_4.jpg mcdonalds/2020-12-22_20-16-18_UTC_5.jpg \n",
      "mcdonalds/2020-12-17_19-21-30_UTC.jpg \n",
      "mcdonalds/2020-12-16_17-10-03_UTC_1.jpg mcdonalds/2020-12-16_17-10-03_UTC_2.jpg \n",
      "mcdonalds/2020-12-10_20-43-52_UTC.jpg \n",
      "mcdonalds/2020-12-03_18-26-53_UTC.jpg \n",
      "mcdonalds/2020-12-02_16-06-03_UTC.jpg \n",
      "mcdonalds/2020-11-24_20-16-26_UTC.jpg \n",
      "mcdonalds/2020-11-19_18-31-11_UTC.jpg \n",
      "mcdonalds/2020-11-17_17-36-00_UTC_1.jpg mcdonalds/2020-11-17_17-36-00_UTC_2.jpg mcdonalds/2020-11-17_17-36-00_UTC_3.jpg mcdonalds/2020-11-17_17-36-00_UTC_4.jpg \n",
      "mcdonalds/2020-11-13_18-24-13_UTC.jpg \n",
      "mcdonalds/2020-10-30_22-41-55_UTC.jpg \n",
      "mcdonalds/2020-10-28_22-11-49_UTC.jpg \n",
      "mcdonalds/2020-10-26_19-25-28_UTC.jpg \n",
      "mcdonalds/2020-10-23_19-12-04_UTC_1.jpg mcdonalds/2020-10-23_19-12-04_UTC_2.jpg \n",
      "\n",
      "\n",
      "mcdonalds/2020-10-19_17-59-38_UTC.jpg \n",
      "mcdonalds/2020-10-16_15-49-24_UTC_1.jpg mcdonalds/2020-10-16_15-49-24_UTC_2.jpg mcdonalds/2020-10-16_15-49-24_UTC_3.jpg mcdonalds/2020-10-16_15-49-24_UTC_4.jpg \n",
      "mcdonalds/2020-10-15_16-08-08_UTC.jpg \n",
      "mcdonalds/2020-10-14_15-54-57_UTC.jpg \n",
      "\n",
      "mcdonalds/2020-10-09_15-02-04_UTC_1.jpg mcdonalds/2020-10-09_15-02-04_UTC_2.jpg mcdonalds/2020-10-09_15-02-04_UTC_3.jpg mcdonalds/2020-10-09_15-02-04_UTC_4.jpg \n",
      "mcdonalds/2020-10-08_15-33-26_UTC.jpg \n",
      "mcdonalds/2020-10-06_15-15-40_UTC_1.jpg mcdonalds/2020-10-06_15-15-40_UTC_2.jpg \n",
      "mcdonalds/2020-10-05_17-24-52_UTC_1.jpg mcdonalds/2020-10-05_17-24-52_UTC_2.jpg mcdonalds/2020-10-05_17-24-52_UTC_3.jpg \n",
      "mcdonalds/2020-09-25_13-24-55_UTC_1.jpg mcdonalds/2020-09-25_13-24-55_UTC_2.jpg mcdonalds/2020-09-25_13-24-55_UTC_3.jpg mcdonalds/2020-09-25_13-24-55_UTC_4.jpg mcdonalds/2020-09-25_13-24-55_UTC_5.jpg \n",
      "\n",
      "mcdonalds/2020-09-18_18-43-39_UTC_1.jpg mcdonalds/2020-09-18_18-43-39_UTC_2.jpg mcdonalds/2020-09-18_18-43-39_UTC_3.jpg mcdonalds/2020-09-18_18-43-39_UTC_4.jpg \n",
      "mcdonalds/2020-09-12_14-59-37_UTC_1.jpg mcdonalds/2020-09-12_14-59-37_UTC_2.jpg mcdonalds/2020-09-12_14-59-37_UTC_3.jpg mcdonalds/2020-09-12_14-59-37_UTC_4.jpg mcdonalds/2020-09-12_14-59-37_UTC_5.jpg mcdonalds/2020-09-12_14-59-37_UTC_6.jpg \n",
      "mcdonalds/2020-09-11_03-27-12_UTC_1.jpg mcdonalds/2020-09-11_03-27-12_UTC_2.jpg mcdonalds/2020-09-11_03-27-12_UTC_3.jpg mcdonalds/2020-09-11_03-27-12_UTC_4.jpg \n",
      "\n",
      "mcdonalds/2020-09-04_21-52-34_UTC.jpg \n",
      "mcdonalds/2020-09-03_17-03-02_UTC.jpg \n",
      "mcdonalds/2020-09-03_13-31-30_UTC.jpg \n",
      "mcdonalds/2020-09-02_17-02-00_UTC.jpg \n",
      "mcdonalds/2020-08-31_15-22-04_UTC.jpg \n",
      "mcdonalds/2020-08-26_14-59-10_UTC.jpg \n",
      "mcdonalds/2020-08-25_15-54-22_UTC_1.jpg \n",
      "mcdonalds/2020-08-21_18-08-55_UTC.jpg \n",
      "mcdonalds/2020-06-03_20-47-21_UTC.jpg \n",
      "\n",
      "mcdonalds/2020-05-20_20-00-24_UTC_1.jpg mcdonalds/2020-05-20_20-00-24_UTC_2.jpg mcdonalds/2020-05-20_20-00-24_UTC_3.jpg mcdonalds/2020-05-20_20-00-24_UTC_4.jpg mcdonalds/2020-05-20_20-00-24_UTC_5.jpg mcdonalds/2020-05-20_20-00-24_UTC_6.jpg mcdonalds/2020-05-20_20-00-24_UTC_7.jpg \n",
      "\n",
      "mcdonalds/2020-05-15_21-01-20_UTC_1.jpg mcdonalds/2020-05-15_21-01-20_UTC_2.jpg mcdonalds/2020-05-15_21-01-20_UTC_3.jpg mcdonalds/2020-05-15_21-01-20_UTC_4.jpg \n",
      "mcdonalds/2020-05-13_20-59-00_UTC.jpg \n",
      "mcdonalds/2020-05-11_21-03-27_UTC_1.jpg mcdonalds/2020-05-11_21-03-27_UTC_2.jpg mcdonalds/2020-05-11_21-03-27_UTC_3.jpg mcdonalds/2020-05-11_21-03-27_UTC_4.jpg \n",
      "mcdonalds/2020-05-10_15-58-49_UTC.jpg \n",
      "mcdonalds/2020-05-09_15-59-02_UTC.jpg \n",
      "mcdonalds/2020-05-08_20-37-06_UTC.jpg \n",
      "\n",
      "\n",
      "\n",
      "mcdonalds/2020-04-15_21-00-45_UTC.jpg \n",
      "mcdonalds/2020-04-10_17-38-07_UTC.jpg \n",
      "mcdonalds/2020-03-31_23-30-49_UTC.jpg \n",
      "mcdonalds/2020-03-17_14-51-49_UTC_1.jpg mcdonalds/2020-03-17_14-51-49_UTC_2.jpg \n",
      "mcdonalds/2020-03-11_14-00-01_UTC.jpg \n",
      "\n",
      "mcdonalds/2020-02-28_17-30-23_UTC.jpg \n",
      "\n",
      "\n",
      "\n",
      "\n",
      "\n",
      "\n",
      "mcdonalds/2020-02-20_23-02-20_UTC.jpg \n",
      "mcdonalds/2020-02-20_17-19-43_UTC.jpg \n",
      "mcdonalds/2020-02-20_02-07-54_UTC_2.jpg \n",
      "\n",
      "\n",
      "\n",
      "\n",
      "\n",
      "\n",
      "mcdonalds/2020-01-25_23-45-44_UTC.jpg \n",
      "mcdonalds/2019-12-21_14-59-44_UTC.jpg \n",
      "mcdonalds/2019-12-09_14-59-47_UTC.jpg \n",
      "\n",
      "mcdonalds/2019-11-25_14-59-38_UTC.jpg \n",
      "mcdonalds/2019-11-21_23-49-53_UTC.jpg \n",
      "mcdonalds/2019-11-20_15-03-16_UTC.jpg \n",
      "mcdonalds/2019-11-15_18-12-24_UTC_1.jpg mcdonalds/2019-11-15_18-12-24_UTC_2.jpg mcdonalds/2019-11-15_18-12-24_UTC_3.jpg mcdonalds/2019-11-15_18-12-24_UTC_4.jpg mcdonalds/2019-11-15_18-12-24_UTC_5.jpg mcdonalds/2019-11-15_18-12-24_UTC_6.jpg mcdonalds/2019-11-15_18-12-24_UTC_7.jpg \n",
      "\n",
      "\n",
      "mcdonalds/2019-10-18_13-23-53_UTC_1.jpg mcdonalds/2019-10-18_13-23-53_UTC_2.jpg mcdonalds/2019-10-18_13-23-53_UTC_3.jpg mcdonalds/2019-10-18_13-23-53_UTC_4.jpg mcdonalds/2019-10-18_13-23-53_UTC_5.jpg mcdonalds/2019-10-18_13-23-53_UTC_6.jpg mcdonalds/2019-10-18_13-23-53_UTC_7.jpg mcdonalds/2019-10-18_13-23-53_UTC_8.jpg \n",
      "mcdonalds/2019-09-22_16-07-31_UTC_1.jpg mcdonalds/2019-09-22_16-07-31_UTC_2.jpg mcdonalds/2019-09-22_16-07-31_UTC_3.jpg mcdonalds/2019-09-22_16-07-31_UTC_4.jpg mcdonalds/2019-09-22_16-07-31_UTC_5.jpg mcdonalds/2019-09-22_16-07-31_UTC_6.jpg mcdonalds/2019-09-22_16-07-31_UTC_7.jpg mcdonalds/2019-09-22_16-07-31_UTC_8.jpg mcdonalds/2019-09-22_16-07-31_UTC_9.jpg \n",
      "\n",
      "\n",
      "mcdonalds/2019-09-02_15-59-52_UTC.jpg \n",
      "mcdonalds/2019-08-29_14-59-53_UTC.jpg \n",
      "\n",
      "mcdonalds/2019-08-08_14-56-11_UTC_1.jpg mcdonalds/2019-08-08_14-56-11_UTC_2.jpg mcdonalds/2019-08-08_14-56-11_UTC_3.jpg mcdonalds/2019-08-08_14-56-11_UTC_4.jpg \n",
      "mcdonalds/2019-08-07_13-59-45_UTC.jpg \n",
      "\n",
      "\n",
      "mcdonalds/2019-07-30_14-00-01_UTC.jpg \n",
      "\n",
      "\n",
      "\n",
      "mcdonalds/2019-06-28_14-00-01_UTC.jpg \n",
      "mcdonalds/2019-06-21_13-59-35_UTC.jpg \n",
      "mcdonalds/2019-05-31_13-59-33_UTC.jpg \n",
      "mcdonalds/2019-05-03_13-59-52_UTC.jpg \n",
      "mcdonalds/2019-04-26_17-13-14_UTC_1.jpg mcdonalds/2019-04-26_17-13-14_UTC_2.jpg mcdonalds/2019-04-26_17-13-14_UTC_3.jpg mcdonalds/2019-04-26_17-13-14_UTC_4.jpg mcdonalds/2019-04-26_17-13-14_UTC_5.jpg \n",
      "\n",
      "\n",
      "\n",
      "\n",
      "mcdonalds/2019-01-31_16-39-01_UTC_1.jpg mcdonalds/2019-01-31_16-39-01_UTC_2.jpg mcdonalds/2019-01-31_16-39-01_UTC_3.jpg \n",
      "mcdonalds/2019-01-22_16-00-31_UTC_1.jpg mcdonalds/2019-01-22_16-00-31_UTC_2.jpg \n",
      "mcdonalds/2018-12-26_17-01-18_UTC_1.jpg mcdonalds/2018-12-26_17-01-18_UTC_2.jpg \n",
      "\n",
      "\n",
      "mcdonalds/2017-10-13_16-01-06_UTC.jpg \n",
      "\n",
      "mcdonalds/2017-05-12_16-05-54_UTC.jpg \n",
      "\n",
      "\n",
      "mcdonalds/2017-03-08_17-58-21_UTC.jpg \n",
      "mcdonalds/2017-03-02_17-47-20_UTC.jpg \n",
      "mcdonalds/2017-01-23_15-09-45_UTC.jpg \n",
      "mcdonalds/2016-11-08_15-59-19_UTC.jpg \n",
      "mcdonalds/2016-11-07_17-00-41_UTC.jpg \n",
      "\n",
      "\n",
      "\n",
      "mcdonalds/2016-09-02_15-58-24_UTC.jpg \n",
      "mcdonalds/2016-08-12_16-38-30_UTC.jpg \n",
      "\n",
      "mcdonalds/2016-06-15_17-06-37_UTC.jpg \n",
      "mcdonalds/2016-06-13_16-30-31_UTC.jpg \n",
      "mcdonalds/2016-06-10_16-59-37_UTC.jpg \n",
      "mcdonalds/2016-06-08_16-00-27_UTC.jpg \n",
      "\n",
      "mcdonalds/2016-05-08_16-01-42_UTC.jpg \n",
      "mcdonalds/2016-05-04_21-03-56_UTC.jpg \n",
      "\n",
      "\n",
      "mcdonalds/2016-03-13_16-02-01_UTC.jpg \n",
      "\n",
      "mcdonalds/2016-03-02_17-40-02_UTC.jpg \n",
      "mcdonalds/2016-02-29_18-12-36_UTC.jpg \n",
      "mcdonalds/2016-02-26_17-35-42_UTC.jpg \n",
      "mcdonalds/2016-02-25_01-41-04_UTC.jpg \n",
      "\n",
      "mcdonalds/2016-02-06_18-36-10_UTC.jpg \n",
      "mcdonalds/2015-01-28_18-09-27_UTC.jpg \n",
      "mcdonalds/2014-08-13_17-19-26_UTC.jpg \n",
      "mcdonalds/2014-08-07_20-54-01_UTC.jpg \n"
     ]
    }
   ],
   "source": [
    "for post in profile:\n",
    "    L.download_post(post, IG_page_name)"
   ]
  },
  {
   "cell_type": "markdown",
   "metadata": {},
   "source": [
    "#### Image analysis functions"
   ]
  },
  {
   "cell_type": "code",
   "execution_count": 233,
   "metadata": {},
   "outputs": [],
   "source": [
    "def RGB2HEX(color):\n",
    "    return \"#{:02x}{:02x}{:02x}\".format(int(color[0]), int(color[1]), int(color[2]))"
   ]
  },
  {
   "cell_type": "code",
   "execution_count": 234,
   "metadata": {},
   "outputs": [],
   "source": [
    "def get_image(image_path):\n",
    "    image = cv2.imread(image_path)\n",
    "    image = cv2.cvtColor(image, cv2.COLOR_BGR2RGB)\n",
    "    return image"
   ]
  },
  {
   "cell_type": "code",
   "execution_count": 235,
   "metadata": {},
   "outputs": [],
   "source": [
    "def get_colors(image, number_of_colors, show_chart):\n",
    "    \n",
    "    modified_image = cv2.resize(image, (600, 400), interpolation = cv2.INTER_AREA)\n",
    "    modified_image = modified_image.reshape(modified_image.shape[0]*modified_image.shape[1], 3)\n",
    "    \n",
    "    clf = KMeans(n_clusters = number_of_colors)\n",
    "    labels = clf.fit_predict(modified_image)\n",
    "    \n",
    "    counts = Counter(labels)\n",
    "\n",
    "    # sort to ensure correct color percentage\n",
    "    counts = dict(sorted(counts.items()))\n",
    "    \n",
    "    center_colors = clf.cluster_centers_\n",
    "    # We get ordered colors by iterating through the keys\n",
    "    ordered_colors = [center_colors[i] for i in counts.keys()]\n",
    "    hex_colors = [RGB2HEX(ordered_colors[i]) for i in counts.keys()]\n",
    "    rgb_colors = [ordered_colors[i] for i in counts.keys()]\n",
    "    \n",
    "    index_max_RGB = list(counts.values()).index(max(list(counts.values())))\n",
    "    max_RGB = list(rgb_colors[index_max_RGB])\n",
    "    \n",
    "    if (show_chart):\n",
    "        plt.figure(figsize = (8, 6))\n",
    "        plt.pie(counts.values(), labels = hex_colors, colors = hex_colors)\n",
    "    \n",
    "    return max_RGB"
   ]
  },
  {
   "cell_type": "markdown",
   "metadata": {},
   "source": [
    "#### For loop: Excel creation + image analysis"
   ]
  },
  {
   "cell_type": "code",
   "execution_count": 236,
   "metadata": {},
   "outputs": [
    {
     "name": "stdout",
     "output_type": "stream",
     "text": [
      "The code lasted 3 minutes and 36 seconds.\n"
     ]
    }
   ],
   "source": [
    "#Start timer\n",
    "start = t.time()\n",
    "\n",
    "#Put all images of an Instagram page in an Excel file\n",
    "images=glob.glob(IG_page_name+\"/*.jpg\")\n",
    "workbook = xlsxwriter.Workbook('images_'+IG_page_name+'.xlsx')\n",
    "worksheet = workbook.add_worksheet()\n",
    "worksheet.set_column('A:B', 15)\n",
    "worksheet.set_row(1, 70)\n",
    "bold = workbook.add_format({'bold': True})\n",
    "\n",
    "worksheet.write('A1', 'Image', bold)\n",
    "worksheet.write('B1', 'R', bold)\n",
    "worksheet.write('C1', 'G', bold)\n",
    "worksheet.write('D1', 'B', bold)\n",
    "\n",
    "i=2\n",
    "for image in images:\n",
    "    with Image.open(image) as img:\n",
    "        width_100 = img.width\n",
    "        height_100 = img.height\n",
    "    width_30 = int(round(width_100 * 0.1, 0))\n",
    "    img = Image.open(image)\n",
    "    wpercent = (width_30/float(width_100))\n",
    "    hsize = int((float(height_100)*float(wpercent)))\n",
    "    img = img.resize((width_30,hsize), Image.ANTIALIAS)\n",
    "    img_name = 'local'+str(i)+'.jpg'\n",
    "    img.save(img_name)\n",
    "    worksheet.set_row(i-1, hsize)\n",
    "    worksheet.insert_image('A'+str(i), img_name)\n",
    "    \n",
    "    #Image analysis, get max RGB value and input in excel file\n",
    "    max_RGB = get_colors(get_image(img_name), 3, False)\n",
    "    worksheet.write('B'+str(i), max_RGB[0])\n",
    "    worksheet.write('C'+str(i), max_RGB[1])\n",
    "    worksheet.write('D'+str(i), max_RGB[2])\n",
    "    \n",
    "    i=i+1\n",
    "    #break\n",
    "    \n",
    "workbook.close()\n",
    "\n",
    "#Delete all images in file directory because temp images were created\n",
    "for image in glob.glob(\"*.jpg\"):\n",
    "    os.remove(image)\n",
    "\n",
    "#End timer\n",
    "end = t.time()\n",
    "\n",
    "#Duration timer\n",
    "duration = end - start\n",
    "if duration > 60:\n",
    "    minutes = int(duration/60)\n",
    "    seconds = int(duration - int(duration/60)*60)\n",
    "    if minutes == 1:\n",
    "        print(\"The code lasted\", minutes, \"minute and\", seconds, \"seconds.\")\n",
    "    else:\n",
    "        print(\"The code lasted\", minutes, \"minutes and\", seconds, \"seconds.\")\n",
    "else:\n",
    "    print(\"The code lasted\", int(duration), \"seconds.\")"
   ]
  },
  {
   "cell_type": "code",
   "execution_count": 237,
   "metadata": {},
   "outputs": [],
   "source": [
    "data = pd.read_excel('images_'+IG_page_name+'.xlsx')"
   ]
  },
  {
   "cell_type": "code",
   "execution_count": 238,
   "metadata": {},
   "outputs": [
    {
     "data": {
      "text/html": [
       "<div>\n",
       "<style scoped>\n",
       "    .dataframe tbody tr th:only-of-type {\n",
       "        vertical-align: middle;\n",
       "    }\n",
       "\n",
       "    .dataframe tbody tr th {\n",
       "        vertical-align: top;\n",
       "    }\n",
       "\n",
       "    .dataframe thead th {\n",
       "        text-align: right;\n",
       "    }\n",
       "</style>\n",
       "<table border=\"1\" class=\"dataframe\">\n",
       "  <thead>\n",
       "    <tr style=\"text-align: right;\">\n",
       "      <th></th>\n",
       "      <th>Image</th>\n",
       "      <th>R</th>\n",
       "      <th>G</th>\n",
       "      <th>B</th>\n",
       "    </tr>\n",
       "  </thead>\n",
       "  <tbody>\n",
       "    <tr>\n",
       "      <td>0</td>\n",
       "      <td>NaN</td>\n",
       "      <td>249.035752</td>\n",
       "      <td>190.403367</td>\n",
       "      <td>36.900539</td>\n",
       "    </tr>\n",
       "    <tr>\n",
       "      <td>1</td>\n",
       "      <td>NaN</td>\n",
       "      <td>63.180568</td>\n",
       "      <td>57.535174</td>\n",
       "      <td>59.814521</td>\n",
       "    </tr>\n",
       "    <tr>\n",
       "      <td>2</td>\n",
       "      <td>NaN</td>\n",
       "      <td>129.871139</td>\n",
       "      <td>58.487692</td>\n",
       "      <td>42.353270</td>\n",
       "    </tr>\n",
       "    <tr>\n",
       "      <td>3</td>\n",
       "      <td>NaN</td>\n",
       "      <td>53.818010</td>\n",
       "      <td>31.346677</td>\n",
       "      <td>33.165194</td>\n",
       "    </tr>\n",
       "    <tr>\n",
       "      <td>4</td>\n",
       "      <td>NaN</td>\n",
       "      <td>237.663363</td>\n",
       "      <td>180.094705</td>\n",
       "      <td>108.249516</td>\n",
       "    </tr>\n",
       "  </tbody>\n",
       "</table>\n",
       "</div>"
      ],
      "text/plain": [
       "   Image           R           G           B\n",
       "0    NaN  249.035752  190.403367   36.900539\n",
       "1    NaN   63.180568   57.535174   59.814521\n",
       "2    NaN  129.871139   58.487692   42.353270\n",
       "3    NaN   53.818010   31.346677   33.165194\n",
       "4    NaN  237.663363  180.094705  108.249516"
      ]
     },
     "execution_count": 238,
     "metadata": {},
     "output_type": "execute_result"
    }
   ],
   "source": [
    "data.head()"
   ]
  },
  {
   "cell_type": "markdown",
   "metadata": {},
   "source": [
    "#### RGB to HSL"
   ]
  },
  {
   "cell_type": "code",
   "execution_count": 239,
   "metadata": {},
   "outputs": [],
   "source": [
    "def round_to_tenth(n):\n",
    "    rem = n % 10\n",
    "    if rem < 5:\n",
    "        n = int(n / 10) * 10\n",
    "    else:\n",
    "        n = int((n + 10) / 10) * 10\n",
    "    return n"
   ]
  },
  {
   "cell_type": "code",
   "execution_count": 240,
   "metadata": {},
   "outputs": [
    {
     "name": "stderr",
     "output_type": "stream",
     "text": [
      "/Users/salim/opt/anaconda3/lib/python3.7/site-packages/pandas/core/indexing.py:205: SettingWithCopyWarning: \n",
      "A value is trying to be set on a copy of a slice from a DataFrame\n",
      "\n",
      "See the caveats in the documentation: http://pandas.pydata.org/pandas-docs/stable/user_guide/indexing.html#returning-a-view-versus-a-copy\n",
      "  self._setitem_with_indexer(indexer, value)\n"
     ]
    }
   ],
   "source": [
    "data['H'] = 0\n",
    "data['S'] = 0\n",
    "data['L'] = 0\n",
    "data['HSL'] = 0\n",
    "for i in range(0,len(data)):\n",
    "    data['H'].loc[i] = round_to_tenth(cs.rgb_to_hls(data['R'].loc[i]/255,data['G'].loc[i]/255,data['B'].loc[i]/255)[0]*360)\n",
    "    data['S'].loc[i] = round_to_tenth(cs.rgb_to_hls(data['R'].loc[i]/255,data['G'].loc[i]/255,data['B'].loc[i]/255)[2]*100)\n",
    "    data['L'].loc[i] = round_to_tenth(cs.rgb_to_hls(data['R'].loc[i]/255,data['G'].loc[i]/255,data['B'].loc[i]/255)[1]*100)\n",
    "    data['HSL'].loc[i] = str(data['H'].loc[i]),str(data['S'].loc[i]),str(data['L'].loc[i])\n",
    "    \n",
    "    "
   ]
  },
  {
   "cell_type": "code",
   "execution_count": 241,
   "metadata": {},
   "outputs": [
    {
     "data": {
      "text/html": [
       "<div>\n",
       "<style scoped>\n",
       "    .dataframe tbody tr th:only-of-type {\n",
       "        vertical-align: middle;\n",
       "    }\n",
       "\n",
       "    .dataframe tbody tr th {\n",
       "        vertical-align: top;\n",
       "    }\n",
       "\n",
       "    .dataframe thead th {\n",
       "        text-align: right;\n",
       "    }\n",
       "</style>\n",
       "<table border=\"1\" class=\"dataframe\">\n",
       "  <thead>\n",
       "    <tr style=\"text-align: right;\">\n",
       "      <th></th>\n",
       "      <th>Image</th>\n",
       "      <th>R</th>\n",
       "      <th>G</th>\n",
       "      <th>B</th>\n",
       "      <th>H</th>\n",
       "      <th>S</th>\n",
       "      <th>L</th>\n",
       "      <th>HSL</th>\n",
       "    </tr>\n",
       "  </thead>\n",
       "  <tbody>\n",
       "    <tr>\n",
       "      <td>0</td>\n",
       "      <td>NaN</td>\n",
       "      <td>249.035752</td>\n",
       "      <td>190.403367</td>\n",
       "      <td>36.900539</td>\n",
       "      <td>40</td>\n",
       "      <td>90</td>\n",
       "      <td>60</td>\n",
       "      <td>(40, 90, 60)</td>\n",
       "    </tr>\n",
       "    <tr>\n",
       "      <td>1</td>\n",
       "      <td>NaN</td>\n",
       "      <td>63.180568</td>\n",
       "      <td>57.535174</td>\n",
       "      <td>59.814521</td>\n",
       "      <td>340</td>\n",
       "      <td>0</td>\n",
       "      <td>20</td>\n",
       "      <td>(340, 0, 20)</td>\n",
       "    </tr>\n",
       "    <tr>\n",
       "      <td>2</td>\n",
       "      <td>NaN</td>\n",
       "      <td>129.871139</td>\n",
       "      <td>58.487692</td>\n",
       "      <td>42.353270</td>\n",
       "      <td>10</td>\n",
       "      <td>50</td>\n",
       "      <td>30</td>\n",
       "      <td>(10, 50, 30)</td>\n",
       "    </tr>\n",
       "    <tr>\n",
       "      <td>3</td>\n",
       "      <td>NaN</td>\n",
       "      <td>53.818010</td>\n",
       "      <td>31.346677</td>\n",
       "      <td>33.165194</td>\n",
       "      <td>360</td>\n",
       "      <td>30</td>\n",
       "      <td>20</td>\n",
       "      <td>(360, 30, 20)</td>\n",
       "    </tr>\n",
       "    <tr>\n",
       "      <td>4</td>\n",
       "      <td>NaN</td>\n",
       "      <td>237.663363</td>\n",
       "      <td>180.094705</td>\n",
       "      <td>108.249516</td>\n",
       "      <td>30</td>\n",
       "      <td>80</td>\n",
       "      <td>70</td>\n",
       "      <td>(30, 80, 70)</td>\n",
       "    </tr>\n",
       "    <tr>\n",
       "      <td>...</td>\n",
       "      <td>...</td>\n",
       "      <td>...</td>\n",
       "      <td>...</td>\n",
       "      <td>...</td>\n",
       "      <td>...</td>\n",
       "      <td>...</td>\n",
       "      <td>...</td>\n",
       "      <td>...</td>\n",
       "    </tr>\n",
       "    <tr>\n",
       "      <td>172</td>\n",
       "      <td>NaN</td>\n",
       "      <td>58.799296</td>\n",
       "      <td>29.340526</td>\n",
       "      <td>22.217634</td>\n",
       "      <td>10</td>\n",
       "      <td>50</td>\n",
       "      <td>20</td>\n",
       "      <td>(10, 50, 20)</td>\n",
       "    </tr>\n",
       "    <tr>\n",
       "      <td>173</td>\n",
       "      <td>NaN</td>\n",
       "      <td>250.358905</td>\n",
       "      <td>180.296402</td>\n",
       "      <td>38.830234</td>\n",
       "      <td>40</td>\n",
       "      <td>100</td>\n",
       "      <td>60</td>\n",
       "      <td>(40, 100, 60)</td>\n",
       "    </tr>\n",
       "    <tr>\n",
       "      <td>174</td>\n",
       "      <td>NaN</td>\n",
       "      <td>196.448567</td>\n",
       "      <td>185.835127</td>\n",
       "      <td>175.107411</td>\n",
       "      <td>30</td>\n",
       "      <td>20</td>\n",
       "      <td>70</td>\n",
       "      <td>(30, 20, 70)</td>\n",
       "    </tr>\n",
       "    <tr>\n",
       "      <td>175</td>\n",
       "      <td>NaN</td>\n",
       "      <td>40.264829</td>\n",
       "      <td>26.703215</td>\n",
       "      <td>17.270003</td>\n",
       "      <td>20</td>\n",
       "      <td>40</td>\n",
       "      <td>10</td>\n",
       "      <td>(20, 40, 10)</td>\n",
       "    </tr>\n",
       "    <tr>\n",
       "      <td>176</td>\n",
       "      <td>NaN</td>\n",
       "      <td>228.153258</td>\n",
       "      <td>228.276444</td>\n",
       "      <td>228.728677</td>\n",
       "      <td>230</td>\n",
       "      <td>0</td>\n",
       "      <td>90</td>\n",
       "      <td>(230, 0, 90)</td>\n",
       "    </tr>\n",
       "  </tbody>\n",
       "</table>\n",
       "<p>177 rows × 8 columns</p>\n",
       "</div>"
      ],
      "text/plain": [
       "     Image           R           G           B    H    S   L            HSL\n",
       "0      NaN  249.035752  190.403367   36.900539   40   90  60   (40, 90, 60)\n",
       "1      NaN   63.180568   57.535174   59.814521  340    0  20   (340, 0, 20)\n",
       "2      NaN  129.871139   58.487692   42.353270   10   50  30   (10, 50, 30)\n",
       "3      NaN   53.818010   31.346677   33.165194  360   30  20  (360, 30, 20)\n",
       "4      NaN  237.663363  180.094705  108.249516   30   80  70   (30, 80, 70)\n",
       "..     ...         ...         ...         ...  ...  ...  ..            ...\n",
       "172    NaN   58.799296   29.340526   22.217634   10   50  20   (10, 50, 20)\n",
       "173    NaN  250.358905  180.296402   38.830234   40  100  60  (40, 100, 60)\n",
       "174    NaN  196.448567  185.835127  175.107411   30   20  70   (30, 20, 70)\n",
       "175    NaN   40.264829   26.703215   17.270003   20   40  10   (20, 40, 10)\n",
       "176    NaN  228.153258  228.276444  228.728677  230    0  90   (230, 0, 90)\n",
       "\n",
       "[177 rows x 8 columns]"
      ]
     },
     "execution_count": 241,
     "metadata": {},
     "output_type": "execute_result"
    }
   ],
   "source": [
    "data"
   ]
  },
  {
   "cell_type": "code",
   "execution_count": 242,
   "metadata": {},
   "outputs": [
    {
     "data": {
      "text/plain": [
       "(30, 30, 80)      5\n",
       "(50, 20, 100)     4\n",
       "(40, 100, 60)     4\n",
       "(40, 90, 60)      4\n",
       "(30, 60, 90)      3\n",
       "(230, 0, 90)      3\n",
       "(40, 90, 50)      3\n",
       "(50, 40, 100)     3\n",
       "(40, 10, 80)      3\n",
       "(40, 100, 50)     2\n",
       "(10, 10, 10)      2\n",
       "(210, 30, 90)     2\n",
       "(10, 60, 20)      2\n",
       "(20, 40, 20)      2\n",
       "(30, 40, 60)      2\n",
       "(20, 0, 40)       2\n",
       "(20, 10, 10)      2\n",
       "(360, 100, 40)    2\n",
       "(230, 40, 0)      2\n",
       "(40, 0, 100)      2\n",
       "Name: HSL, dtype: int64"
      ]
     },
     "execution_count": 242,
     "metadata": {},
     "output_type": "execute_result"
    }
   ],
   "source": [
    "data['HSL'].value_counts().head(20)"
   ]
  },
  {
   "cell_type": "code",
   "execution_count": 243,
   "metadata": {},
   "outputs": [
    {
     "data": {
      "text/plain": [
       "138"
      ]
     },
     "execution_count": 243,
     "metadata": {},
     "output_type": "execute_result"
    }
   ],
   "source": [
    "data['HSL'].nunique()"
   ]
  },
  {
   "cell_type": "code",
   "execution_count": 245,
   "metadata": {},
   "outputs": [],
   "source": [
    "def hsl_to_rgb(a,b,c):\n",
    "    value = tuple([round(x,2) for x in cs.hls_to_rgb(a/360, b/100, c/100)])\n",
    "    return value"
   ]
  },
  {
   "cell_type": "code",
   "execution_count": 246,
   "metadata": {},
   "outputs": [],
   "source": [
    "data['RGB rework'] = 'test'\n",
    "\n",
    "for i in range(0,len(data)):\n",
    "    data['RGB rework'].loc[i] = hsl_to_rgb(data['H'].loc[i],data['L'].loc[i],data['S'].loc[i])"
   ]
  },
  {
   "cell_type": "code",
   "execution_count": 247,
   "metadata": {},
   "outputs": [
    {
     "data": {
      "text/html": [
       "<div>\n",
       "<style scoped>\n",
       "    .dataframe tbody tr th:only-of-type {\n",
       "        vertical-align: middle;\n",
       "    }\n",
       "\n",
       "    .dataframe tbody tr th {\n",
       "        vertical-align: top;\n",
       "    }\n",
       "\n",
       "    .dataframe thead th {\n",
       "        text-align: right;\n",
       "    }\n",
       "</style>\n",
       "<table border=\"1\" class=\"dataframe\">\n",
       "  <thead>\n",
       "    <tr style=\"text-align: right;\">\n",
       "      <th></th>\n",
       "      <th>Image</th>\n",
       "      <th>R</th>\n",
       "      <th>G</th>\n",
       "      <th>B</th>\n",
       "      <th>H</th>\n",
       "      <th>S</th>\n",
       "      <th>L</th>\n",
       "      <th>HSL</th>\n",
       "      <th>RGB rework</th>\n",
       "    </tr>\n",
       "  </thead>\n",
       "  <tbody>\n",
       "    <tr>\n",
       "      <td>0</td>\n",
       "      <td>NaN</td>\n",
       "      <td>249.035752</td>\n",
       "      <td>190.403367</td>\n",
       "      <td>36.900539</td>\n",
       "      <td>40</td>\n",
       "      <td>90</td>\n",
       "      <td>60</td>\n",
       "      <td>(40, 90, 60)</td>\n",
       "      <td>(0.96, 0.72, 0.24)</td>\n",
       "    </tr>\n",
       "    <tr>\n",
       "      <td>1</td>\n",
       "      <td>NaN</td>\n",
       "      <td>63.180568</td>\n",
       "      <td>57.535174</td>\n",
       "      <td>59.814521</td>\n",
       "      <td>340</td>\n",
       "      <td>0</td>\n",
       "      <td>20</td>\n",
       "      <td>(340, 0, 20)</td>\n",
       "      <td>(0.2, 0.2, 0.2)</td>\n",
       "    </tr>\n",
       "    <tr>\n",
       "      <td>2</td>\n",
       "      <td>NaN</td>\n",
       "      <td>129.871139</td>\n",
       "      <td>58.487692</td>\n",
       "      <td>42.353270</td>\n",
       "      <td>10</td>\n",
       "      <td>50</td>\n",
       "      <td>30</td>\n",
       "      <td>(10, 50, 30)</td>\n",
       "      <td>(0.45, 0.2, 0.15)</td>\n",
       "    </tr>\n",
       "    <tr>\n",
       "      <td>3</td>\n",
       "      <td>NaN</td>\n",
       "      <td>53.818010</td>\n",
       "      <td>31.346677</td>\n",
       "      <td>33.165194</td>\n",
       "      <td>360</td>\n",
       "      <td>30</td>\n",
       "      <td>20</td>\n",
       "      <td>(360, 30, 20)</td>\n",
       "      <td>(0.26, 0.14, 0.14)</td>\n",
       "    </tr>\n",
       "    <tr>\n",
       "      <td>4</td>\n",
       "      <td>NaN</td>\n",
       "      <td>237.663363</td>\n",
       "      <td>180.094705</td>\n",
       "      <td>108.249516</td>\n",
       "      <td>30</td>\n",
       "      <td>80</td>\n",
       "      <td>70</td>\n",
       "      <td>(30, 80, 70)</td>\n",
       "      <td>(0.94, 0.7, 0.46)</td>\n",
       "    </tr>\n",
       "    <tr>\n",
       "      <td>...</td>\n",
       "      <td>...</td>\n",
       "      <td>...</td>\n",
       "      <td>...</td>\n",
       "      <td>...</td>\n",
       "      <td>...</td>\n",
       "      <td>...</td>\n",
       "      <td>...</td>\n",
       "      <td>...</td>\n",
       "      <td>...</td>\n",
       "    </tr>\n",
       "    <tr>\n",
       "      <td>172</td>\n",
       "      <td>NaN</td>\n",
       "      <td>58.799296</td>\n",
       "      <td>29.340526</td>\n",
       "      <td>22.217634</td>\n",
       "      <td>10</td>\n",
       "      <td>50</td>\n",
       "      <td>20</td>\n",
       "      <td>(10, 50, 20)</td>\n",
       "      <td>(0.3, 0.13, 0.1)</td>\n",
       "    </tr>\n",
       "    <tr>\n",
       "      <td>173</td>\n",
       "      <td>NaN</td>\n",
       "      <td>250.358905</td>\n",
       "      <td>180.296402</td>\n",
       "      <td>38.830234</td>\n",
       "      <td>40</td>\n",
       "      <td>100</td>\n",
       "      <td>60</td>\n",
       "      <td>(40, 100, 60)</td>\n",
       "      <td>(1.0, 0.73, 0.2)</td>\n",
       "    </tr>\n",
       "    <tr>\n",
       "      <td>174</td>\n",
       "      <td>NaN</td>\n",
       "      <td>196.448567</td>\n",
       "      <td>185.835127</td>\n",
       "      <td>175.107411</td>\n",
       "      <td>30</td>\n",
       "      <td>20</td>\n",
       "      <td>70</td>\n",
       "      <td>(30, 20, 70)</td>\n",
       "      <td>(0.76, 0.7, 0.64)</td>\n",
       "    </tr>\n",
       "    <tr>\n",
       "      <td>175</td>\n",
       "      <td>NaN</td>\n",
       "      <td>40.264829</td>\n",
       "      <td>26.703215</td>\n",
       "      <td>17.270003</td>\n",
       "      <td>20</td>\n",
       "      <td>40</td>\n",
       "      <td>10</td>\n",
       "      <td>(20, 40, 10)</td>\n",
       "      <td>(0.14, 0.09, 0.06)</td>\n",
       "    </tr>\n",
       "    <tr>\n",
       "      <td>176</td>\n",
       "      <td>NaN</td>\n",
       "      <td>228.153258</td>\n",
       "      <td>228.276444</td>\n",
       "      <td>228.728677</td>\n",
       "      <td>230</td>\n",
       "      <td>0</td>\n",
       "      <td>90</td>\n",
       "      <td>(230, 0, 90)</td>\n",
       "      <td>(0.9, 0.9, 0.9)</td>\n",
       "    </tr>\n",
       "  </tbody>\n",
       "</table>\n",
       "<p>177 rows × 9 columns</p>\n",
       "</div>"
      ],
      "text/plain": [
       "     Image           R           G           B    H    S   L            HSL  \\\n",
       "0      NaN  249.035752  190.403367   36.900539   40   90  60   (40, 90, 60)   \n",
       "1      NaN   63.180568   57.535174   59.814521  340    0  20   (340, 0, 20)   \n",
       "2      NaN  129.871139   58.487692   42.353270   10   50  30   (10, 50, 30)   \n",
       "3      NaN   53.818010   31.346677   33.165194  360   30  20  (360, 30, 20)   \n",
       "4      NaN  237.663363  180.094705  108.249516   30   80  70   (30, 80, 70)   \n",
       "..     ...         ...         ...         ...  ...  ...  ..            ...   \n",
       "172    NaN   58.799296   29.340526   22.217634   10   50  20   (10, 50, 20)   \n",
       "173    NaN  250.358905  180.296402   38.830234   40  100  60  (40, 100, 60)   \n",
       "174    NaN  196.448567  185.835127  175.107411   30   20  70   (30, 20, 70)   \n",
       "175    NaN   40.264829   26.703215   17.270003   20   40  10   (20, 40, 10)   \n",
       "176    NaN  228.153258  228.276444  228.728677  230    0  90   (230, 0, 90)   \n",
       "\n",
       "             RGB rework  \n",
       "0    (0.96, 0.72, 0.24)  \n",
       "1       (0.2, 0.2, 0.2)  \n",
       "2     (0.45, 0.2, 0.15)  \n",
       "3    (0.26, 0.14, 0.14)  \n",
       "4     (0.94, 0.7, 0.46)  \n",
       "..                  ...  \n",
       "172    (0.3, 0.13, 0.1)  \n",
       "173    (1.0, 0.73, 0.2)  \n",
       "174   (0.76, 0.7, 0.64)  \n",
       "175  (0.14, 0.09, 0.06)  \n",
       "176     (0.9, 0.9, 0.9)  \n",
       "\n",
       "[177 rows x 9 columns]"
      ]
     },
     "execution_count": 247,
     "metadata": {},
     "output_type": "execute_result"
    }
   ],
   "source": [
    "data"
   ]
  },
  {
   "cell_type": "code",
   "execution_count": 248,
   "metadata": {},
   "outputs": [
    {
     "data": {
      "text/plain": [
       "(1.0, 1.0, 1.0)       26\n",
       "(0.9, 0.9, 0.9)        6\n",
       "(0.86, 0.8, 0.74)      5\n",
       "(0.96, 0.72, 0.24)     4\n",
       "(1.0, 0.73, 0.2)       4\n",
       "                      ..\n",
       "(0.88, 0.92, 0.9)      1\n",
       "(0.22, 0.18, 0.2)      1\n",
       "(0.55, 0.45, 0.5)      1\n",
       "(0.1, 0.06, 0.14)      1\n",
       "(0.6, 0.33, 0.2)       1\n",
       "Name: RGB rework, Length: 110, dtype: int64"
      ]
     },
     "execution_count": 248,
     "metadata": {},
     "output_type": "execute_result"
    }
   ],
   "source": [
    "data['RGB rework'].value_counts()"
   ]
  },
  {
   "cell_type": "code",
   "execution_count": 249,
   "metadata": {},
   "outputs": [],
   "source": [
    "data_color_count = pd.DataFrame(data['RGB rework'].value_counts()).reset_index()\n",
    "data_color_count.columns = ['RGB colors', 'Count']"
   ]
  },
  {
   "cell_type": "code",
   "execution_count": 250,
   "metadata": {},
   "outputs": [
    {
     "data": {
      "text/html": [
       "<div>\n",
       "<style scoped>\n",
       "    .dataframe tbody tr th:only-of-type {\n",
       "        vertical-align: middle;\n",
       "    }\n",
       "\n",
       "    .dataframe tbody tr th {\n",
       "        vertical-align: top;\n",
       "    }\n",
       "\n",
       "    .dataframe thead th {\n",
       "        text-align: right;\n",
       "    }\n",
       "</style>\n",
       "<table border=\"1\" class=\"dataframe\">\n",
       "  <thead>\n",
       "    <tr style=\"text-align: right;\">\n",
       "      <th></th>\n",
       "      <th>RGB colors</th>\n",
       "      <th>Count</th>\n",
       "    </tr>\n",
       "  </thead>\n",
       "  <tbody>\n",
       "    <tr>\n",
       "      <td>0</td>\n",
       "      <td>(1.0, 1.0, 1.0)</td>\n",
       "      <td>26</td>\n",
       "    </tr>\n",
       "    <tr>\n",
       "      <td>1</td>\n",
       "      <td>(0.9, 0.9, 0.9)</td>\n",
       "      <td>6</td>\n",
       "    </tr>\n",
       "    <tr>\n",
       "      <td>2</td>\n",
       "      <td>(0.86, 0.8, 0.74)</td>\n",
       "      <td>5</td>\n",
       "    </tr>\n",
       "    <tr>\n",
       "      <td>3</td>\n",
       "      <td>(0.96, 0.72, 0.24)</td>\n",
       "      <td>4</td>\n",
       "    </tr>\n",
       "    <tr>\n",
       "      <td>4</td>\n",
       "      <td>(1.0, 0.73, 0.2)</td>\n",
       "      <td>4</td>\n",
       "    </tr>\n",
       "    <tr>\n",
       "      <td>...</td>\n",
       "      <td>...</td>\n",
       "      <td>...</td>\n",
       "    </tr>\n",
       "    <tr>\n",
       "      <td>105</td>\n",
       "      <td>(0.88, 0.92, 0.9)</td>\n",
       "      <td>1</td>\n",
       "    </tr>\n",
       "    <tr>\n",
       "      <td>106</td>\n",
       "      <td>(0.22, 0.18, 0.2)</td>\n",
       "      <td>1</td>\n",
       "    </tr>\n",
       "    <tr>\n",
       "      <td>107</td>\n",
       "      <td>(0.55, 0.45, 0.5)</td>\n",
       "      <td>1</td>\n",
       "    </tr>\n",
       "    <tr>\n",
       "      <td>108</td>\n",
       "      <td>(0.1, 0.06, 0.14)</td>\n",
       "      <td>1</td>\n",
       "    </tr>\n",
       "    <tr>\n",
       "      <td>109</td>\n",
       "      <td>(0.6, 0.33, 0.2)</td>\n",
       "      <td>1</td>\n",
       "    </tr>\n",
       "  </tbody>\n",
       "</table>\n",
       "<p>110 rows × 2 columns</p>\n",
       "</div>"
      ],
      "text/plain": [
       "             RGB colors  Count\n",
       "0       (1.0, 1.0, 1.0)     26\n",
       "1       (0.9, 0.9, 0.9)      6\n",
       "2     (0.86, 0.8, 0.74)      5\n",
       "3    (0.96, 0.72, 0.24)      4\n",
       "4      (1.0, 0.73, 0.2)      4\n",
       "..                  ...    ...\n",
       "105   (0.88, 0.92, 0.9)      1\n",
       "106   (0.22, 0.18, 0.2)      1\n",
       "107   (0.55, 0.45, 0.5)      1\n",
       "108   (0.1, 0.06, 0.14)      1\n",
       "109    (0.6, 0.33, 0.2)      1\n",
       "\n",
       "[110 rows x 2 columns]"
      ]
     },
     "execution_count": 250,
     "metadata": {},
     "output_type": "execute_result"
    }
   ],
   "source": [
    "data_color_count"
   ]
  },
  {
   "cell_type": "code",
   "execution_count": 251,
   "metadata": {},
   "outputs": [
    {
     "data": {
      "text/plain": [
       "[(1.0, 1.0, 1.0),\n",
       " (0.9, 0.9, 0.9),\n",
       " (0.86, 0.8, 0.74),\n",
       " (0.96, 0.72, 0.24),\n",
       " (1.0, 0.73, 0.2),\n",
       " (0.96, 0.9, 0.84),\n",
       " (0.0, 0.0, 0.0),\n",
       " (0.4, 0.4, 0.4),\n",
       " (0.8, 0.8, 0.8),\n",
       " (0.95, 0.65, 0.05),\n",
       " (0.82, 0.81, 0.78),\n",
       " (0.34, 0.2, 0.06),\n",
       " (0.11, 0.09, 0.09),\n",
       " (0.8, 0.0, 0.0),\n",
       " (0.88, 0.69, 0.32),\n",
       " (0.91, 0.9, 0.89),\n",
       " (1.0, 0.67, 0.0),\n",
       " (0.12, 0.08, 0.08),\n",
       " (0.7, 0.37, 0.3),\n",
       " (0.87, 0.9, 0.93)]"
      ]
     },
     "execution_count": 251,
     "metadata": {},
     "output_type": "execute_result"
    }
   ],
   "source": [
    "list(data_color_count['RGB colors'].head(20))"
   ]
  },
  {
   "cell_type": "markdown",
   "metadata": {},
   "source": [
    "#### Pie chart creation"
   ]
  },
  {
   "cell_type": "code",
   "execution_count": 254,
   "metadata": {},
   "outputs": [
    {
     "data": {
      "image/png": "[encoded data removed]",
      "text/plain": [
       "<Figure size 432x288 with 1 Axes>"
      ]
     },
     "metadata": {},
     "output_type": "display_data"
    }
   ],
   "source": [
    "# Pie chart\n",
    "sizes = list(data_color_count['Count'].head(20))\n",
    "#colors\n",
    "colors = list(data_color_count['RGB colors'].head(20))\n",
    "fig1, ax1 = plt.subplots()\n",
    "\n",
    "def make_autopct(values):\n",
    "    def my_autopct(pct):\n",
    "        total = sum(values)\n",
    "        val = int(round(pct*total/100.0))\n",
    "        return '{v:d}'.format(p=pct,v=val)\n",
    "    return my_autopct\n",
    "\n",
    "ax1.pie(sizes, colors = colors, autopct=make_autopct(sizes), startangle=90)\n",
    "#draw circle\n",
    "centre_circle = plt.Circle((0,0),0.70,fc='white')\n",
    "fig = plt.gcf()\n",
    "fig.gca().add_artist(centre_circle)\n",
    "# Equal aspect ratio ensures that pie is drawn as a circle\n",
    "ax1.axis('equal')  \n",
    "plt.tight_layout()\n",
    "plt.savefig(IG_page_name+'_plot.png')\n",
    "plt.show()"
   ]
  },
  {
   "cell_type": "code",
   "execution_count": null,
   "metadata": {},
   "outputs": [],
   "source": []
  }
 ],
 "metadata": {
  "kernelspec": {
   "display_name": "Python 3",
   "language": "python",
   "name": "python3"
  },
  "language_info": {
   "codemirror_mode": {
    "name": "ipython",
    "version": 3
   },
   "file_extension": ".py",
   "mimetype": "text/x-python",
   "name": "python",
   "nbconvert_exporter": "python",
   "pygments_lexer": "ipython3",
   "version": "3.7.4"
  }
 },
 "nbformat": 4,
 "nbformat_minor": 2
}

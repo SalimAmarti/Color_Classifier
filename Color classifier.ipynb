{
 "cells": [
  {
   "cell_type": "markdown",
   "metadata": {},
   "source": [
    "# Imports"
   ]
  },
  {
   "cell_type": "code",
   "execution_count": 1,
   "metadata": {},
   "outputs": [],
   "source": [
    "import pandas as pd"
   ]
  },
  {
   "cell_type": "code",
   "execution_count": 2,
   "metadata": {},
   "outputs": [],
   "source": [
    "from sklearn.cluster import KMeans\n",
    "import matplotlib.pyplot as plt\n",
    "import numpy as np\n",
    "import cv2\n",
    "from collections import Counter\n",
    "from skimage.color import rgb2lab, deltaE_cie76\n",
    "import os\n",
    "\n",
    "%matplotlib inline"
   ]
  },
  {
   "cell_type": "code",
   "execution_count": 3,
   "metadata": {},
   "outputs": [],
   "source": [
    "import instaloader"
   ]
  },
  {
   "cell_type": "code",
   "execution_count": 4,
   "metadata": {},
   "outputs": [],
   "source": [
    "import glob\n",
    "from PIL import Image\n",
    "import xlsxwriter\n",
    "import os"
   ]
  },
  {
   "cell_type": "code",
   "execution_count": 5,
   "metadata": {},
   "outputs": [],
   "source": [
    "import time as t"
   ]
  },
  {
   "cell_type": "code",
   "execution_count": 6,
   "metadata": {},
   "outputs": [],
   "source": [
    "import colorsys as cs"
   ]
  },
  {
   "cell_type": "code",
   "execution_count": 37,
   "metadata": {},
   "outputs": [],
   "source": [
    "import math"
   ]
  },
  {
   "cell_type": "markdown",
   "metadata": {},
   "source": [
    "# Instagram image extraction + image analysis"
   ]
  },
  {
   "cell_type": "markdown",
   "metadata": {},
   "source": [
    "#### Instagram image extraction"
   ]
  },
  {
   "cell_type": "code",
   "execution_count": null,
   "metadata": {},
   "outputs": [],
   "source": [
    "L = instaloader.Instaloader()"
   ]
  },
  {
   "cell_type": "code",
   "execution_count": null,
   "metadata": {},
   "outputs": [],
   "source": [
    "#L.login(\"login\",\"login\")"
   ]
  },
  {
   "cell_type": "code",
   "execution_count": null,
   "metadata": {},
   "outputs": [],
   "source": [
    "L = instaloader.Instaloader(download_videos = False,\n",
    "                            download_video_thumbnails = False,\n",
    "                            download_geotags = False,\n",
    "                            download_comments = False,\n",
    "                            save_metadata = False,\n",
    "                            post_metadata_txt_pattern = \"\")\n",
    "profile = instaloader.Profile.from_username(L.context, \"thylacine_music\").get_posts()"
   ]
  },
  {
   "cell_type": "code",
   "execution_count": null,
   "metadata": {},
   "outputs": [],
   "source": [
    "for post in profile:\n",
    "    L.download_post(post, \"thylacine_music\")"
   ]
  },
  {
   "cell_type": "markdown",
   "metadata": {},
   "source": [
    "#### Image analysis functions"
   ]
  },
  {
   "cell_type": "code",
   "execution_count": 7,
   "metadata": {},
   "outputs": [],
   "source": [
    "def RGB2HEX(color):\n",
    "    return \"#{:02x}{:02x}{:02x}\".format(int(color[0]), int(color[1]), int(color[2]))"
   ]
  },
  {
   "cell_type": "code",
   "execution_count": 8,
   "metadata": {},
   "outputs": [],
   "source": [
    "def get_image(image_path):\n",
    "    image = cv2.imread(image_path)\n",
    "    image = cv2.cvtColor(image, cv2.COLOR_BGR2RGB)\n",
    "    return image"
   ]
  },
  {
   "cell_type": "code",
   "execution_count": 9,
   "metadata": {},
   "outputs": [],
   "source": [
    "def get_colors(image, number_of_colors, show_chart):\n",
    "    \n",
    "    modified_image = cv2.resize(image, (600, 400), interpolation = cv2.INTER_AREA)\n",
    "    modified_image = modified_image.reshape(modified_image.shape[0]*modified_image.shape[1], 3)\n",
    "    \n",
    "    clf = KMeans(n_clusters = number_of_colors)\n",
    "    labels = clf.fit_predict(modified_image)\n",
    "    \n",
    "    counts = Counter(labels)\n",
    "\n",
    "    # sort to ensure correct color percentage\n",
    "    counts = dict(sorted(counts.items()))\n",
    "    \n",
    "    center_colors = clf.cluster_centers_\n",
    "    # We get ordered colors by iterating through the keys\n",
    "    ordered_colors = [center_colors[i] for i in counts.keys()]\n",
    "    hex_colors = [RGB2HEX(ordered_colors[i]) for i in counts.keys()]\n",
    "    rgb_colors = [ordered_colors[i] for i in counts.keys()]\n",
    "    \n",
    "    index_max_RGB = list(counts.values()).index(max(list(counts.values())))\n",
    "    max_RGB = list(rgb_colors[index_max_RGB])\n",
    "    \n",
    "    if (show_chart):\n",
    "        plt.figure(figsize = (8, 6))\n",
    "        plt.pie(counts.values(), labels = hex_colors, colors = hex_colors)\n",
    "    \n",
    "    return max_RGB"
   ]
  },
  {
   "cell_type": "markdown",
   "metadata": {},
   "source": [
    "#### For loop: Excel creation + image analysis"
   ]
  },
  {
   "cell_type": "code",
   "execution_count": 86,
   "metadata": {},
   "outputs": [],
   "source": [
    "#Start timer\n",
    "start = t.time()\n",
    "\n",
    "#Put all images of an Instagram page in an Excel file\n",
    "images=glob.glob(\"thylacine_music/*.jpg\")\n",
    "workbook = xlsxwriter.Workbook('images.xlsx')\n",
    "worksheet = workbook.add_worksheet()\n",
    "worksheet.set_column('A:B', 15)\n",
    "worksheet.set_row(1, 70)\n",
    "bold = workbook.add_format({'bold': True})\n",
    "\n",
    "worksheet.write('A1', 'Image', bold)\n",
    "worksheet.write('B1', 'R', bold)\n",
    "worksheet.write('C1', 'G', bold)\n",
    "worksheet.write('D1', 'B', bold)\n",
    "\n",
    "i=2\n",
    "for image in images:\n",
    "    with Image.open(image) as img:\n",
    "        width_100 = img.width\n",
    "        height_100 = img.height\n",
    "    width_30 = int(round(width_100 * 0.1, 0))\n",
    "    img = Image.open(image)\n",
    "    wpercent = (width_30/float(width_100))\n",
    "    hsize = int((float(height_100)*float(wpercent)))\n",
    "    img = img.resize((width_30,hsize), Image.ANTIALIAS)\n",
    "    img_name = 'local'+str(i)+'.jpg'\n",
    "    img.save(img_name)\n",
    "    worksheet.set_row(i-1, hsize)\n",
    "    worksheet.insert_image('A'+str(i), img_name)\n",
    "    \n",
    "    #Image analysis, get max RGB value and input in excel file\n",
    "    max_RGB = get_colors(get_image(img_name), 3, False)\n",
    "    worksheet.write('B'+str(i), max_RGB[0])\n",
    "    worksheet.write('C'+str(i), max_RGB[1])\n",
    "    worksheet.write('D'+str(i), max_RGB[2])\n",
    "    \n",
    "    i=i+1\n",
    "    #break\n",
    "    \n",
    "workbook.close()\n",
    "\n",
    "#Delete all images in file directory because temp images were created\n",
    "for image in glob.glob(\"*.jpg\"):\n",
    "    os.remove(image)\n",
    "\n",
    "#End timer\n",
    "end = t.time()\n",
    "\n",
    "#Duration timer\n",
    "duration = end - start\n",
    "if duration > 60:\n",
    "    minutes = int(duration/60)\n",
    "    seconds = int(duration - int(duration/60)*60)\n",
    "    if minutes == 1:\n",
    "        print(\"The code lasted\", minutes, \"minute and\", seconds, \"seconds.\")\n",
    "    else:\n",
    "        print(\"The code lasted\", minutes, \"minutes and\", seconds, \"seconds.\")\n",
    "else:\n",
    "    print(\"The code lasted\", int(duration), \"seconds.\")"
   ]
  },
  {
   "cell_type": "code",
   "execution_count": 10,
   "metadata": {},
   "outputs": [],
   "source": [
    "data = pd.read_excel('images.xlsx')"
   ]
  },
  {
   "cell_type": "code",
   "execution_count": 11,
   "metadata": {},
   "outputs": [
    {
     "data": {
      "text/html": [
       "<div>\n",
       "<style scoped>\n",
       "    .dataframe tbody tr th:only-of-type {\n",
       "        vertical-align: middle;\n",
       "    }\n",
       "\n",
       "    .dataframe tbody tr th {\n",
       "        vertical-align: top;\n",
       "    }\n",
       "\n",
       "    .dataframe thead th {\n",
       "        text-align: right;\n",
       "    }\n",
       "</style>\n",
       "<table border=\"1\" class=\"dataframe\">\n",
       "  <thead>\n",
       "    <tr style=\"text-align: right;\">\n",
       "      <th></th>\n",
       "      <th>Image</th>\n",
       "      <th>R</th>\n",
       "      <th>G</th>\n",
       "      <th>B</th>\n",
       "    </tr>\n",
       "  </thead>\n",
       "  <tbody>\n",
       "    <tr>\n",
       "      <td>0</td>\n",
       "      <td>NaN</td>\n",
       "      <td>158.629068</td>\n",
       "      <td>129.261377</td>\n",
       "      <td>116.829537</td>\n",
       "    </tr>\n",
       "    <tr>\n",
       "      <td>1</td>\n",
       "      <td>NaN</td>\n",
       "      <td>65.278938</td>\n",
       "      <td>65.278938</td>\n",
       "      <td>65.278938</td>\n",
       "    </tr>\n",
       "    <tr>\n",
       "      <td>2</td>\n",
       "      <td>NaN</td>\n",
       "      <td>146.987046</td>\n",
       "      <td>145.668398</td>\n",
       "      <td>144.727876</td>\n",
       "    </tr>\n",
       "    <tr>\n",
       "      <td>3</td>\n",
       "      <td>NaN</td>\n",
       "      <td>196.360404</td>\n",
       "      <td>123.042519</td>\n",
       "      <td>80.974598</td>\n",
       "    </tr>\n",
       "    <tr>\n",
       "      <td>4</td>\n",
       "      <td>NaN</td>\n",
       "      <td>137.868637</td>\n",
       "      <td>119.383536</td>\n",
       "      <td>108.627504</td>\n",
       "    </tr>\n",
       "  </tbody>\n",
       "</table>\n",
       "</div>"
      ],
      "text/plain": [
       "   Image           R           G           B\n",
       "0    NaN  158.629068  129.261377  116.829537\n",
       "1    NaN   65.278938   65.278938   65.278938\n",
       "2    NaN  146.987046  145.668398  144.727876\n",
       "3    NaN  196.360404  123.042519   80.974598\n",
       "4    NaN  137.868637  119.383536  108.627504"
      ]
     },
     "execution_count": 11,
     "metadata": {},
     "output_type": "execute_result"
    }
   ],
   "source": [
    "data.head()"
   ]
  },
  {
   "cell_type": "code",
   "execution_count": 12,
   "metadata": {},
   "outputs": [],
   "source": [
    "def round_to_tenth(n):\n",
    "    rem = n % 10\n",
    "    if rem < 5:\n",
    "        n = int(n / 10) * 10\n",
    "    else:\n",
    "        n = int((n + 10) / 10) * 10\n",
    "    return n"
   ]
  },
  {
   "cell_type": "code",
   "execution_count": 13,
   "metadata": {},
   "outputs": [
    {
     "name": "stderr",
     "output_type": "stream",
     "text": [
      "/Users/salim/opt/anaconda3/lib/python3.7/site-packages/pandas/core/indexing.py:205: SettingWithCopyWarning: \n",
      "A value is trying to be set on a copy of a slice from a DataFrame\n",
      "\n",
      "See the caveats in the documentation: http://pandas.pydata.org/pandas-docs/stable/user_guide/indexing.html#returning-a-view-versus-a-copy\n",
      "  self._setitem_with_indexer(indexer, value)\n"
     ]
    }
   ],
   "source": [
    "data['H'] = 0\n",
    "data['S'] = 0\n",
    "data['L'] = 0\n",
    "data['HSL'] = 0\n",
    "for i in range(0,len(data)):\n",
    "    data['H'].loc[i] = round_to_tenth(cs.rgb_to_hls(data['R'].loc[i]/255,data['G'].loc[i]/255,data['B'].loc[i]/255)[0]*360)\n",
    "    data['S'].loc[i] = round_to_tenth(cs.rgb_to_hls(data['R'].loc[i]/255,data['G'].loc[i]/255,data['B'].loc[i]/255)[2]*100)\n",
    "    data['L'].loc[i] = round_to_tenth(cs.rgb_to_hls(data['R'].loc[i]/255,data['G'].loc[i]/255,data['B'].loc[i]/255)[1]*100)\n",
    "    data['HSL'].loc[i] = str(data['H'].loc[i]),str(data['S'].loc[i]),str(data['L'].loc[i])\n",
    "    \n",
    "    "
   ]
  },
  {
   "cell_type": "code",
   "execution_count": 14,
   "metadata": {},
   "outputs": [
    {
     "data": {
      "text/html": [
       "<div>\n",
       "<style scoped>\n",
       "    .dataframe tbody tr th:only-of-type {\n",
       "        vertical-align: middle;\n",
       "    }\n",
       "\n",
       "    .dataframe tbody tr th {\n",
       "        vertical-align: top;\n",
       "    }\n",
       "\n",
       "    .dataframe thead th {\n",
       "        text-align: right;\n",
       "    }\n",
       "</style>\n",
       "<table border=\"1\" class=\"dataframe\">\n",
       "  <thead>\n",
       "    <tr style=\"text-align: right;\">\n",
       "      <th></th>\n",
       "      <th>Image</th>\n",
       "      <th>R</th>\n",
       "      <th>G</th>\n",
       "      <th>B</th>\n",
       "      <th>H</th>\n",
       "      <th>S</th>\n",
       "      <th>L</th>\n",
       "      <th>HSL</th>\n",
       "    </tr>\n",
       "  </thead>\n",
       "  <tbody>\n",
       "    <tr>\n",
       "      <td>0</td>\n",
       "      <td>NaN</td>\n",
       "      <td>158.629068</td>\n",
       "      <td>129.261377</td>\n",
       "      <td>116.829537</td>\n",
       "      <td>20</td>\n",
       "      <td>20</td>\n",
       "      <td>50</td>\n",
       "      <td>(20, 20, 50)</td>\n",
       "    </tr>\n",
       "    <tr>\n",
       "      <td>1</td>\n",
       "      <td>NaN</td>\n",
       "      <td>65.278938</td>\n",
       "      <td>65.278938</td>\n",
       "      <td>65.278938</td>\n",
       "      <td>0</td>\n",
       "      <td>0</td>\n",
       "      <td>30</td>\n",
       "      <td>(0, 0, 30)</td>\n",
       "    </tr>\n",
       "    <tr>\n",
       "      <td>2</td>\n",
       "      <td>NaN</td>\n",
       "      <td>146.987046</td>\n",
       "      <td>145.668398</td>\n",
       "      <td>144.727876</td>\n",
       "      <td>20</td>\n",
       "      <td>0</td>\n",
       "      <td>60</td>\n",
       "      <td>(20, 0, 60)</td>\n",
       "    </tr>\n",
       "    <tr>\n",
       "      <td>3</td>\n",
       "      <td>NaN</td>\n",
       "      <td>196.360404</td>\n",
       "      <td>123.042519</td>\n",
       "      <td>80.974598</td>\n",
       "      <td>20</td>\n",
       "      <td>50</td>\n",
       "      <td>50</td>\n",
       "      <td>(20, 50, 50)</td>\n",
       "    </tr>\n",
       "    <tr>\n",
       "      <td>4</td>\n",
       "      <td>NaN</td>\n",
       "      <td>137.868637</td>\n",
       "      <td>119.383536</td>\n",
       "      <td>108.627504</td>\n",
       "      <td>20</td>\n",
       "      <td>10</td>\n",
       "      <td>50</td>\n",
       "      <td>(20, 10, 50)</td>\n",
       "    </tr>\n",
       "    <tr>\n",
       "      <td>...</td>\n",
       "      <td>...</td>\n",
       "      <td>...</td>\n",
       "      <td>...</td>\n",
       "      <td>...</td>\n",
       "      <td>...</td>\n",
       "      <td>...</td>\n",
       "      <td>...</td>\n",
       "      <td>...</td>\n",
       "    </tr>\n",
       "    <tr>\n",
       "      <td>307</td>\n",
       "      <td>NaN</td>\n",
       "      <td>245.898512</td>\n",
       "      <td>245.898512</td>\n",
       "      <td>245.898512</td>\n",
       "      <td>0</td>\n",
       "      <td>0</td>\n",
       "      <td>100</td>\n",
       "      <td>(0, 0, 100)</td>\n",
       "    </tr>\n",
       "    <tr>\n",
       "      <td>308</td>\n",
       "      <td>NaN</td>\n",
       "      <td>16.158646</td>\n",
       "      <td>16.158646</td>\n",
       "      <td>16.158646</td>\n",
       "      <td>0</td>\n",
       "      <td>0</td>\n",
       "      <td>10</td>\n",
       "      <td>(0, 0, 10)</td>\n",
       "    </tr>\n",
       "    <tr>\n",
       "      <td>309</td>\n",
       "      <td>NaN</td>\n",
       "      <td>37.138278</td>\n",
       "      <td>33.246897</td>\n",
       "      <td>33.742346</td>\n",
       "      <td>350</td>\n",
       "      <td>10</td>\n",
       "      <td>10</td>\n",
       "      <td>(350, 10, 10)</td>\n",
       "    </tr>\n",
       "    <tr>\n",
       "      <td>310</td>\n",
       "      <td>NaN</td>\n",
       "      <td>73.790499</td>\n",
       "      <td>134.965712</td>\n",
       "      <td>146.385629</td>\n",
       "      <td>190</td>\n",
       "      <td>30</td>\n",
       "      <td>40</td>\n",
       "      <td>(190, 30, 40)</td>\n",
       "    </tr>\n",
       "    <tr>\n",
       "      <td>311</td>\n",
       "      <td>NaN</td>\n",
       "      <td>2.956404</td>\n",
       "      <td>9.192789</td>\n",
       "      <td>22.343955</td>\n",
       "      <td>220</td>\n",
       "      <td>80</td>\n",
       "      <td>0</td>\n",
       "      <td>(220, 80, 0)</td>\n",
       "    </tr>\n",
       "  </tbody>\n",
       "</table>\n",
       "<p>312 rows × 8 columns</p>\n",
       "</div>"
      ],
      "text/plain": [
       "     Image           R           G           B    H   S    L            HSL\n",
       "0      NaN  158.629068  129.261377  116.829537   20  20   50   (20, 20, 50)\n",
       "1      NaN   65.278938   65.278938   65.278938    0   0   30     (0, 0, 30)\n",
       "2      NaN  146.987046  145.668398  144.727876   20   0   60    (20, 0, 60)\n",
       "3      NaN  196.360404  123.042519   80.974598   20  50   50   (20, 50, 50)\n",
       "4      NaN  137.868637  119.383536  108.627504   20  10   50   (20, 10, 50)\n",
       "..     ...         ...         ...         ...  ...  ..  ...            ...\n",
       "307    NaN  245.898512  245.898512  245.898512    0   0  100    (0, 0, 100)\n",
       "308    NaN   16.158646   16.158646   16.158646    0   0   10     (0, 0, 10)\n",
       "309    NaN   37.138278   33.246897   33.742346  350  10   10  (350, 10, 10)\n",
       "310    NaN   73.790499  134.965712  146.385629  190  30   40  (190, 30, 40)\n",
       "311    NaN    2.956404    9.192789   22.343955  220  80    0   (220, 80, 0)\n",
       "\n",
       "[312 rows x 8 columns]"
      ]
     },
     "execution_count": 14,
     "metadata": {},
     "output_type": "execute_result"
    }
   ],
   "source": [
    "data"
   ]
  },
  {
   "cell_type": "code",
   "execution_count": 15,
   "metadata": {},
   "outputs": [
    {
     "data": {
      "text/plain": [
       "(0, 0, 0)        12\n",
       "(0, 0, 10)       11\n",
       "(30, 30, 70)      4\n",
       "(30, 10, 50)      4\n",
       "(20, 20, 50)      4\n",
       "(20, 20, 10)      3\n",
       "(40, 10, 70)      3\n",
       "(20, 10, 20)      3\n",
       "(30, 20, 10)      3\n",
       "(300, 10, 20)     3\n",
       "(70, 10, 40)      3\n",
       "(250, 20, 10)     3\n",
       "(20, 30, 20)      2\n",
       "(20, 10, 10)      2\n",
       "(330, 0, 20)      2\n",
       "(0, 0, 90)        2\n",
       "(20, 0, 10)       2\n",
       "(30, 20, 60)      2\n",
       "(10, 20, 50)      2\n",
       "(40, 10, 10)      2\n",
       "Name: HSL, dtype: int64"
      ]
     },
     "execution_count": 15,
     "metadata": {},
     "output_type": "execute_result"
    }
   ],
   "source": [
    "data['HSL'].value_counts().head(20)"
   ]
  },
  {
   "cell_type": "code",
   "execution_count": 16,
   "metadata": {},
   "outputs": [
    {
     "data": {
      "text/plain": [
       "236"
      ]
     },
     "execution_count": 16,
     "metadata": {},
     "output_type": "execute_result"
    }
   ],
   "source": [
    "data['HSL'].nunique()"
   ]
  },
  {
   "cell_type": "code",
   "execution_count": 38,
   "metadata": {},
   "outputs": [
    {
     "data": {
      "text/plain": [
       "(153, 119, 102)"
      ]
     },
     "execution_count": 38,
     "metadata": {},
     "output_type": "execute_result"
    }
   ],
   "source": [
    "tuple([math.trunc(255*x) for x in cs.hls_to_rgb(data['H'].loc[0]/360, data['L'].loc[0]/100, data['S'].loc[0]/100)])"
   ]
  },
  {
   "cell_type": "code",
   "execution_count": 75,
   "metadata": {},
   "outputs": [],
   "source": [
    "def hsl_to_rgb(a,b,c):\n",
    "    value = tuple([round(x,2) for x in cs.hls_to_rgb(a/360, b/100, c/100)])\n",
    "    return value"
   ]
  },
  {
   "cell_type": "code",
   "execution_count": 76,
   "metadata": {},
   "outputs": [],
   "source": [
    "data['RGB rework'] = 'test'\n",
    "\n",
    "for i in range(0,len(data)):\n",
    "    data['RGB rework'].loc[i] = hsl_to_rgb(data['H'].loc[i],data['L'].loc[i],data['S'].loc[i])"
   ]
  },
  {
   "cell_type": "code",
   "execution_count": 77,
   "metadata": {},
   "outputs": [
    {
     "data": {
      "text/html": [
       "<div>\n",
       "<style scoped>\n",
       "    .dataframe tbody tr th:only-of-type {\n",
       "        vertical-align: middle;\n",
       "    }\n",
       "\n",
       "    .dataframe tbody tr th {\n",
       "        vertical-align: top;\n",
       "    }\n",
       "\n",
       "    .dataframe thead th {\n",
       "        text-align: right;\n",
       "    }\n",
       "</style>\n",
       "<table border=\"1\" class=\"dataframe\">\n",
       "  <thead>\n",
       "    <tr style=\"text-align: right;\">\n",
       "      <th></th>\n",
       "      <th>Image</th>\n",
       "      <th>R</th>\n",
       "      <th>G</th>\n",
       "      <th>B</th>\n",
       "      <th>H</th>\n",
       "      <th>S</th>\n",
       "      <th>L</th>\n",
       "      <th>HSL</th>\n",
       "      <th>RGB rework</th>\n",
       "    </tr>\n",
       "  </thead>\n",
       "  <tbody>\n",
       "    <tr>\n",
       "      <td>0</td>\n",
       "      <td>NaN</td>\n",
       "      <td>158.629068</td>\n",
       "      <td>129.261377</td>\n",
       "      <td>116.829537</td>\n",
       "      <td>20</td>\n",
       "      <td>20</td>\n",
       "      <td>50</td>\n",
       "      <td>(20, 20, 50)</td>\n",
       "      <td>(0.6, 0.47, 0.4)</td>\n",
       "    </tr>\n",
       "    <tr>\n",
       "      <td>1</td>\n",
       "      <td>NaN</td>\n",
       "      <td>65.278938</td>\n",
       "      <td>65.278938</td>\n",
       "      <td>65.278938</td>\n",
       "      <td>0</td>\n",
       "      <td>0</td>\n",
       "      <td>30</td>\n",
       "      <td>(0, 0, 30)</td>\n",
       "      <td>(0.3, 0.3, 0.3)</td>\n",
       "    </tr>\n",
       "    <tr>\n",
       "      <td>2</td>\n",
       "      <td>NaN</td>\n",
       "      <td>146.987046</td>\n",
       "      <td>145.668398</td>\n",
       "      <td>144.727876</td>\n",
       "      <td>20</td>\n",
       "      <td>0</td>\n",
       "      <td>60</td>\n",
       "      <td>(20, 0, 60)</td>\n",
       "      <td>(0.6, 0.6, 0.6)</td>\n",
       "    </tr>\n",
       "    <tr>\n",
       "      <td>3</td>\n",
       "      <td>NaN</td>\n",
       "      <td>196.360404</td>\n",
       "      <td>123.042519</td>\n",
       "      <td>80.974598</td>\n",
       "      <td>20</td>\n",
       "      <td>50</td>\n",
       "      <td>50</td>\n",
       "      <td>(20, 50, 50)</td>\n",
       "      <td>(0.75, 0.42, 0.25)</td>\n",
       "    </tr>\n",
       "    <tr>\n",
       "      <td>4</td>\n",
       "      <td>NaN</td>\n",
       "      <td>137.868637</td>\n",
       "      <td>119.383536</td>\n",
       "      <td>108.627504</td>\n",
       "      <td>20</td>\n",
       "      <td>10</td>\n",
       "      <td>50</td>\n",
       "      <td>(20, 10, 50)</td>\n",
       "      <td>(0.55, 0.48, 0.45)</td>\n",
       "    </tr>\n",
       "    <tr>\n",
       "      <td>...</td>\n",
       "      <td>...</td>\n",
       "      <td>...</td>\n",
       "      <td>...</td>\n",
       "      <td>...</td>\n",
       "      <td>...</td>\n",
       "      <td>...</td>\n",
       "      <td>...</td>\n",
       "      <td>...</td>\n",
       "      <td>...</td>\n",
       "    </tr>\n",
       "    <tr>\n",
       "      <td>307</td>\n",
       "      <td>NaN</td>\n",
       "      <td>245.898512</td>\n",
       "      <td>245.898512</td>\n",
       "      <td>245.898512</td>\n",
       "      <td>0</td>\n",
       "      <td>0</td>\n",
       "      <td>100</td>\n",
       "      <td>(0, 0, 100)</td>\n",
       "      <td>(1.0, 1.0, 1.0)</td>\n",
       "    </tr>\n",
       "    <tr>\n",
       "      <td>308</td>\n",
       "      <td>NaN</td>\n",
       "      <td>16.158646</td>\n",
       "      <td>16.158646</td>\n",
       "      <td>16.158646</td>\n",
       "      <td>0</td>\n",
       "      <td>0</td>\n",
       "      <td>10</td>\n",
       "      <td>(0, 0, 10)</td>\n",
       "      <td>(0.1, 0.1, 0.1)</td>\n",
       "    </tr>\n",
       "    <tr>\n",
       "      <td>309</td>\n",
       "      <td>NaN</td>\n",
       "      <td>37.138278</td>\n",
       "      <td>33.246897</td>\n",
       "      <td>33.742346</td>\n",
       "      <td>350</td>\n",
       "      <td>10</td>\n",
       "      <td>10</td>\n",
       "      <td>(350, 10, 10)</td>\n",
       "      <td>(0.11, 0.09, 0.09)</td>\n",
       "    </tr>\n",
       "    <tr>\n",
       "      <td>310</td>\n",
       "      <td>NaN</td>\n",
       "      <td>73.790499</td>\n",
       "      <td>134.965712</td>\n",
       "      <td>146.385629</td>\n",
       "      <td>190</td>\n",
       "      <td>30</td>\n",
       "      <td>40</td>\n",
       "      <td>(190, 30, 40)</td>\n",
       "      <td>(0.28, 0.48, 0.52)</td>\n",
       "    </tr>\n",
       "    <tr>\n",
       "      <td>311</td>\n",
       "      <td>NaN</td>\n",
       "      <td>2.956404</td>\n",
       "      <td>9.192789</td>\n",
       "      <td>22.343955</td>\n",
       "      <td>220</td>\n",
       "      <td>80</td>\n",
       "      <td>0</td>\n",
       "      <td>(220, 80, 0)</td>\n",
       "      <td>(0.0, 0.0, 0.0)</td>\n",
       "    </tr>\n",
       "  </tbody>\n",
       "</table>\n",
       "<p>312 rows × 9 columns</p>\n",
       "</div>"
      ],
      "text/plain": [
       "     Image           R           G           B    H   S    L            HSL  \\\n",
       "0      NaN  158.629068  129.261377  116.829537   20  20   50   (20, 20, 50)   \n",
       "1      NaN   65.278938   65.278938   65.278938    0   0   30     (0, 0, 30)   \n",
       "2      NaN  146.987046  145.668398  144.727876   20   0   60    (20, 0, 60)   \n",
       "3      NaN  196.360404  123.042519   80.974598   20  50   50   (20, 50, 50)   \n",
       "4      NaN  137.868637  119.383536  108.627504   20  10   50   (20, 10, 50)   \n",
       "..     ...         ...         ...         ...  ...  ..  ...            ...   \n",
       "307    NaN  245.898512  245.898512  245.898512    0   0  100    (0, 0, 100)   \n",
       "308    NaN   16.158646   16.158646   16.158646    0   0   10     (0, 0, 10)   \n",
       "309    NaN   37.138278   33.246897   33.742346  350  10   10  (350, 10, 10)   \n",
       "310    NaN   73.790499  134.965712  146.385629  190  30   40  (190, 30, 40)   \n",
       "311    NaN    2.956404    9.192789   22.343955  220  80    0   (220, 80, 0)   \n",
       "\n",
       "             RGB rework  \n",
       "0      (0.6, 0.47, 0.4)  \n",
       "1       (0.3, 0.3, 0.3)  \n",
       "2       (0.6, 0.6, 0.6)  \n",
       "3    (0.75, 0.42, 0.25)  \n",
       "4    (0.55, 0.48, 0.45)  \n",
       "..                  ...  \n",
       "307     (1.0, 1.0, 1.0)  \n",
       "308     (0.1, 0.1, 0.1)  \n",
       "309  (0.11, 0.09, 0.09)  \n",
       "310  (0.28, 0.48, 0.52)  \n",
       "311     (0.0, 0.0, 0.0)  \n",
       "\n",
       "[312 rows x 9 columns]"
      ]
     },
     "execution_count": 77,
     "metadata": {},
     "output_type": "execute_result"
    }
   ],
   "source": [
    "data"
   ]
  },
  {
   "cell_type": "code",
   "execution_count": 86,
   "metadata": {},
   "outputs": [
    {
     "data": {
      "text/plain": [
       "(0.0, 0.0, 0.0)       22\n",
       "(0.1, 0.1, 0.1)       21\n",
       "(0.2, 0.2, 0.2)       10\n",
       "(0.8, 0.8, 0.8)        8\n",
       "(0.7, 0.7, 0.7)        7\n",
       "                      ..\n",
       "(0.73, 0.73, 0.67)     1\n",
       "(0.22, 0.18, 0.18)     1\n",
       "(0.76, 0.7, 0.64)      1\n",
       "(0.33, 0.3, 0.27)      1\n",
       "(0.71, 0.67, 0.73)     1\n",
       "Name: RGB rework, Length: 174, dtype: int64"
      ]
     },
     "execution_count": 86,
     "metadata": {},
     "output_type": "execute_result"
    }
   ],
   "source": [
    "data['RGB rework'].value_counts()"
   ]
  },
  {
   "cell_type": "code",
   "execution_count": 92,
   "metadata": {},
   "outputs": [],
   "source": [
    "data_color_count = pd.DataFrame(data['RGB rework'].value_counts()).reset_index()\n",
    "data_color_count.columns = ['RGB colors', 'Count']"
   ]
  },
  {
   "cell_type": "code",
   "execution_count": 93,
   "metadata": {},
   "outputs": [
    {
     "data": {
      "text/html": [
       "<div>\n",
       "<style scoped>\n",
       "    .dataframe tbody tr th:only-of-type {\n",
       "        vertical-align: middle;\n",
       "    }\n",
       "\n",
       "    .dataframe tbody tr th {\n",
       "        vertical-align: top;\n",
       "    }\n",
       "\n",
       "    .dataframe thead th {\n",
       "        text-align: right;\n",
       "    }\n",
       "</style>\n",
       "<table border=\"1\" class=\"dataframe\">\n",
       "  <thead>\n",
       "    <tr style=\"text-align: right;\">\n",
       "      <th></th>\n",
       "      <th>RGB colors</th>\n",
       "      <th>Count</th>\n",
       "    </tr>\n",
       "  </thead>\n",
       "  <tbody>\n",
       "    <tr>\n",
       "      <td>0</td>\n",
       "      <td>(0.0, 0.0, 0.0)</td>\n",
       "      <td>22</td>\n",
       "    </tr>\n",
       "    <tr>\n",
       "      <td>1</td>\n",
       "      <td>(0.1, 0.1, 0.1)</td>\n",
       "      <td>21</td>\n",
       "    </tr>\n",
       "    <tr>\n",
       "      <td>2</td>\n",
       "      <td>(0.2, 0.2, 0.2)</td>\n",
       "      <td>10</td>\n",
       "    </tr>\n",
       "    <tr>\n",
       "      <td>3</td>\n",
       "      <td>(0.8, 0.8, 0.8)</td>\n",
       "      <td>8</td>\n",
       "    </tr>\n",
       "    <tr>\n",
       "      <td>4</td>\n",
       "      <td>(0.7, 0.7, 0.7)</td>\n",
       "      <td>7</td>\n",
       "    </tr>\n",
       "    <tr>\n",
       "      <td>...</td>\n",
       "      <td>...</td>\n",
       "      <td>...</td>\n",
       "    </tr>\n",
       "    <tr>\n",
       "      <td>169</td>\n",
       "      <td>(0.73, 0.73, 0.67)</td>\n",
       "      <td>1</td>\n",
       "    </tr>\n",
       "    <tr>\n",
       "      <td>170</td>\n",
       "      <td>(0.22, 0.18, 0.18)</td>\n",
       "      <td>1</td>\n",
       "    </tr>\n",
       "    <tr>\n",
       "      <td>171</td>\n",
       "      <td>(0.76, 0.7, 0.64)</td>\n",
       "      <td>1</td>\n",
       "    </tr>\n",
       "    <tr>\n",
       "      <td>172</td>\n",
       "      <td>(0.33, 0.3, 0.27)</td>\n",
       "      <td>1</td>\n",
       "    </tr>\n",
       "    <tr>\n",
       "      <td>173</td>\n",
       "      <td>(0.71, 0.67, 0.73)</td>\n",
       "      <td>1</td>\n",
       "    </tr>\n",
       "  </tbody>\n",
       "</table>\n",
       "<p>174 rows × 2 columns</p>\n",
       "</div>"
      ],
      "text/plain": [
       "             RGB colors  Count\n",
       "0       (0.0, 0.0, 0.0)     22\n",
       "1       (0.1, 0.1, 0.1)     21\n",
       "2       (0.2, 0.2, 0.2)     10\n",
       "3       (0.8, 0.8, 0.8)      8\n",
       "4       (0.7, 0.7, 0.7)      7\n",
       "..                  ...    ...\n",
       "169  (0.73, 0.73, 0.67)      1\n",
       "170  (0.22, 0.18, 0.18)      1\n",
       "171   (0.76, 0.7, 0.64)      1\n",
       "172   (0.33, 0.3, 0.27)      1\n",
       "173  (0.71, 0.67, 0.73)      1\n",
       "\n",
       "[174 rows x 2 columns]"
      ]
     },
     "execution_count": 93,
     "metadata": {},
     "output_type": "execute_result"
    }
   ],
   "source": [
    "data_color_count"
   ]
  },
  {
   "cell_type": "code",
   "execution_count": 95,
   "metadata": {},
   "outputs": [
    {
     "data": {
      "text/plain": [
       "[(0.0, 0.0, 0.0),\n",
       " (0.1, 0.1, 0.1),\n",
       " (0.2, 0.2, 0.2),\n",
       " (0.8, 0.8, 0.8),\n",
       " (0.7, 0.7, 0.7),\n",
       " (0.11, 0.1, 0.09),\n",
       " (0.79, 0.7, 0.61),\n",
       " (0.11, 0.09, 0.09),\n",
       " (0.12, 0.09, 0.08),\n",
       " (0.22, 0.19, 0.18),\n",
       " (0.55, 0.5, 0.45),\n",
       " (0.6, 0.47, 0.4),\n",
       " (0.09, 0.1, 0.11),\n",
       " (0.6, 0.6, 0.6),\n",
       " (0.5, 0.5, 0.5),\n",
       " (0.19, 0.18, 0.22),\n",
       " (1.0, 1.0, 1.0),\n",
       " (0.36, 0.24, 0.24),\n",
       " (0.73, 0.71, 0.67),\n",
       " (0.09, 0.08, 0.12)]"
      ]
     },
     "execution_count": 95,
     "metadata": {},
     "output_type": "execute_result"
    }
   ],
   "source": [
    "list(data_color_count['RGB colors'].head(20))"
   ]
  },
  {
   "cell_type": "code",
   "execution_count": 96,
   "metadata": {},
   "outputs": [
    {
     "data": {
      "image/png": "[encoded data removed]",
      "text/plain": [
       "<Figure size 432x288 with 1 Axes>"
      ]
     },
     "metadata": {},
     "output_type": "display_data"
    }
   ],
   "source": [
    "# Pie chart\n",
    "sizes = list(data_color_count['Count'].head(20))\n",
    "#colors\n",
    "colors = list(data_color_count['RGB colors'].head(20))\n",
    "fig1, ax1 = plt.subplots()\n",
    "\n",
    "def make_autopct(values):\n",
    "    def my_autopct(pct):\n",
    "        total = sum(values)\n",
    "        val = int(round(pct*total/100.0))\n",
    "        return '{v:d}'.format(p=pct,v=val)\n",
    "    return my_autopct\n",
    "\n",
    "ax1.pie(sizes, colors = colors, autopct=make_autopct(sizes), startangle=90)\n",
    "#draw circle\n",
    "centre_circle = plt.Circle((0,0),0.70,fc='white')\n",
    "fig = plt.gcf()\n",
    "fig.gca().add_artist(centre_circle)\n",
    "# Equal aspect ratio ensures that pie is drawn as a circle\n",
    "ax1.axis('equal')  \n",
    "plt.tight_layout()\n",
    "plt.show()"
   ]
  },
  {
   "cell_type": "markdown",
   "metadata": {},
   "source": [
    "# Image analysis"
   ]
  },
  {
   "cell_type": "code",
   "execution_count": 5,
   "metadata": {},
   "outputs": [],
   "source": [
    "image = cv2.imread('2020-09-18_15-36-48_UTC_1.jpg')"
   ]
  },
  {
   "cell_type": "code",
   "execution_count": 6,
   "metadata": {},
   "outputs": [
    {
     "data": {
      "text/plain": [
       "(1080, 1080, 3)"
      ]
     },
     "execution_count": 6,
     "metadata": {},
     "output_type": "execute_result"
    }
   ],
   "source": [
    "image.shape"
   ]
  },
  {
   "cell_type": "code",
   "execution_count": 7,
   "metadata": {},
   "outputs": [
    {
     "data": {
      "text/plain": [
       "<matplotlib.image.AxesImage at 0x1c2e5a1110>"
      ]
     },
     "execution_count": 7,
     "metadata": {},
     "output_type": "execute_result"
    },
    {
     "data": {
      "image/png": "[encoded data removed]",
      "text/plain": [
       "<Figure size 432x288 with 1 Axes>"
      ]
     },
     "metadata": {
      "needs_background": "light"
     },
     "output_type": "display_data"
    }
   ],
   "source": [
    "plt.imshow(image)"
   ]
  },
  {
   "cell_type": "code",
   "execution_count": 8,
   "metadata": {},
   "outputs": [
    {
     "data": {
      "text/plain": [
       "<matplotlib.image.AxesImage at 0x1c2f3d19d0>"
      ]
     },
     "execution_count": 8,
     "metadata": {},
     "output_type": "execute_result"
    },
    {
     "data": {
      "image/png": "[encoded data removed]",
      "text/plain": [
       "<Figure size 432x288 with 1 Axes>"
      ]
     },
     "metadata": {
      "needs_background": "light"
     },
     "output_type": "display_data"
    }
   ],
   "source": [
    "image = cv2.cvtColor(image, cv2.COLOR_BGR2RGB)\n",
    "plt.imshow(image)"
   ]
  },
  {
   "cell_type": "code",
   "execution_count": 75,
   "metadata": {},
   "outputs": [],
   "source": [
    "max_RGB = get_colors(get_image('2019-12-29_13-41-57_UTC.jpg'), 3, False)"
   ]
  },
  {
   "cell_type": "code",
   "execution_count": 77,
   "metadata": {},
   "outputs": [
    {
     "data": {
      "text/plain": [
       "210.02035482207847"
      ]
     },
     "execution_count": 77,
     "metadata": {},
     "output_type": "execute_result"
    }
   ],
   "source": [
    "max_RGB[0]"
   ]
  },
  {
   "cell_type": "code",
   "execution_count": 131,
   "metadata": {},
   "outputs": [],
   "source": [
    "def rgb_to_hsl(r, g, b):\n",
    "    r = float(r)\n",
    "    g = float(g)\n",
    "    b = float(b)\n",
    "    high = max(r, g, b)\n",
    "    low = min(r, g, b)\n",
    "    h, s, v = ((high + low) / 2,)*3\n",
    "\n",
    "    if high == low:\n",
    "        h = 0.0\n",
    "        s = 0.0\n",
    "    else:\n",
    "        d = high - low\n",
    "        s = d / (2 - high - low) if v > 0.5 else d / (high + low)\n",
    "        h = {\n",
    "            r: (g - b) / d + (6 if g < b else 0),\n",
    "            g: (b - r) / d + 2,\n",
    "            b: (r - g) / d + 4,\n",
    "        }[high]\n",
    "        h /= 6\n",
    "\n",
    "    return h, s, v"
   ]
  },
  {
   "cell_type": "code",
   "execution_count": null,
   "metadata": {},
   "outputs": [],
   "source": [
    "for i in get_colors(get_image('2020-11-27_12-36-16_UTC_2.jpg'), 3, True):\n",
    "    print(i)"
   ]
  },
  {
   "cell_type": "code",
   "execution_count": null,
   "metadata": {},
   "outputs": [],
   "source": [
    "imgHLS = cv2.cvtColor(img, cv2.COLOR_BGR2HLS)"
   ]
  },
  {
   "cell_type": "code",
   "execution_count": null,
   "metadata": {},
   "outputs": [],
   "source": [
    "import colorsys"
   ]
  },
  {
   "cell_type": "code",
   "execution_count": null,
   "metadata": {},
   "outputs": [],
   "source": [
    "hlsval = colorsys.rgb_to_hls(get_colors(get_image('2020-11-27_12-36-16_UTC_2.jpg'), 3, True)[0][0],get_colors(get_image('2020-11-27_12-36-16_UTC_2.jpg'), 3, True)[0][1],get_colors(get_image('2020-11-27_12-36-16_UTC_2.jpg'), 3, True)[0][2])"
   ]
  },
  {
   "cell_type": "code",
   "execution_count": null,
   "metadata": {},
   "outputs": [],
   "source": [
    "print(hlsval)"
   ]
  },
  {
   "cell_type": "code",
   "execution_count": null,
   "metadata": {},
   "outputs": [],
   "source": []
  },
  {
   "cell_type": "code",
   "execution_count": null,
   "metadata": {},
   "outputs": [],
   "source": [
    "def get_colors(image, number_of_colors, show_chart):\n",
    "    \n",
    "    modified_image = cv2.resize(image, (600, 400), interpolation = cv2.INTER_AREA)\n",
    "    modified_image = modified_image.reshape(modified_image.shape[0]*modified_image.shape[1], 3)\n",
    "    \n",
    "    clf = KMeans(n_clusters = number_of_colors)\n",
    "    labels = clf.fit_predict(modified_image)\n",
    "    \n",
    "    counts = Counter(labels)\n",
    "    print(counts)\n",
    "    print(counts.items())\n",
    "    # sort to ensure correct color percentage\n",
    "    counts = dict(sorted(counts.items()))\n",
    "    print(counts)\n",
    "    \n",
    "    center_colors = clf.cluster_centers_\n",
    "    # We get ordered colors by iterating through the keys\n",
    "    ordered_colors = [center_colors[i] for i in counts.keys()]\n",
    "    hex_colors = [RGB2HEX(ordered_colors[i]) for i in counts.keys()]\n",
    "    rgb_colors = [ordered_colors[i] for i in counts.keys()]\n",
    "    print(center_colors)\n",
    "    print(counts)\n",
    "    print(counts.keys)\n",
    "    print(counts.values())\n",
    "    print(list(counts.values()).index(max(list(counts.values()))))\n",
    "    print(rgb_colors[list(counts.values()).index(max(list(counts.values())))])\n",
    "    print(ordered_colors)\n",
    "    print(hex_colors)\n",
    "    print(rgb_colors)\n",
    "    \n",
    "    if (show_chart):\n",
    "        plt.figure(figsize = (8, 6))\n",
    "        plt.pie(counts.values(), labels = hex_colors, colors = hex_colors)\n",
    "    \n",
    "    return rgb_colors"
   ]
  },
  {
   "cell_type": "code",
   "execution_count": 124,
   "metadata": {},
   "outputs": [],
   "source": [
    "import colorsys as cs"
   ]
  },
  {
   "cell_type": "code",
   "execution_count": 137,
   "metadata": {},
   "outputs": [
    {
     "data": {
      "text/plain": [
       "(0.0617816091954023, 0.5411764705882354, 0.49572649572649574)"
      ]
     },
     "execution_count": 137,
     "metadata": {},
     "output_type": "execute_result"
    }
   ],
   "source": [
    "cs.rgb_to_hls(196/255,123/255,80/255)"
   ]
  },
  {
   "cell_type": "code",
   "execution_count": 142,
   "metadata": {},
   "outputs": [
    {
     "data": {
      "text/plain": [
       "21.599999999999998"
      ]
     },
     "execution_count": 142,
     "metadata": {},
     "output_type": "execute_result"
    }
   ],
   "source": [
    "0.06*360"
   ]
  },
  {
   "cell_type": "code",
   "execution_count": 136,
   "metadata": {},
   "outputs": [
    {
     "data": {
      "text/plain": [
       "(0.060764147811461174, 0.4959310879450717, 0.543794121627451)"
      ]
     },
     "execution_count": 136,
     "metadata": {},
     "output_type": "execute_result"
    }
   ],
   "source": [
    "rgb_to_hsl(196.3604038/255,123.0425191/255,80.97459823/255)"
   ]
  },
  {
   "cell_type": "code",
   "execution_count": null,
   "metadata": {},
   "outputs": [],
   "source": []
  }
 ],
 "metadata": {
  "kernelspec": {
   "display_name": "Python 3",
   "language": "python",
   "name": "python3"
  },
  "language_info": {
   "codemirror_mode": {
    "name": "ipython",
    "version": 3
   },
   "file_extension": ".py",
   "mimetype": "text/x-python",
   "name": "python",
   "nbconvert_exporter": "python",
   "pygments_lexer": "ipython3",
   "version": "3.7.4"
  }
 },
 "nbformat": 4,
 "nbformat_minor": 2
}

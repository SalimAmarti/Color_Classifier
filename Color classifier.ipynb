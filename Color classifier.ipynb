{
 "cells": [
  {
   "cell_type": "markdown",
   "metadata": {},
   "source": [
    "<bold> <font size = '10'>  **Color clustering tool**  </font> </bold>"
   ]
  },
  {
   "cell_type": "markdown",
   "metadata": {},
   "source": [
    "------"
   ]
  },
  {
   "cell_type": "markdown",
   "metadata": {},
   "source": [
    "# Motivations"
   ]
  },
  {
   "cell_type": "markdown",
   "metadata": {},
   "source": [
    "In my current job but also in past jobs, I often came across the recurring need of our clients to have qualitative insights on their social media presence. I am used to provide quantitative insights based on classic KPIs such as reach, impressions, engagement, etc. But what is trickier is to build a story to the client with qualitative insights without doing it manually (it takes a lot of time!). For example, some clients want to understand the communication strategy of their competitors in order to stand out from them. Do they have a specific tone of voice? Do they use the same set of colors to communicate?\n",
    "\n",
    "This is how I got the idea to work on this project! The objective is to create a **color clustering tool which will extract the most used colors of an Instagram page.**"
   ]
  },
  {
   "cell_type": "markdown",
   "metadata": {},
   "source": [
    "# Sources"
   ]
  },
  {
   "cell_type": "markdown",
   "metadata": {},
   "source": [
    "This article helped me to build the K-Means clustering algorithm to extract the top colors of an image:\n",
    "https://towardsdatascience.com/color-identification-in-images-machine-learning-application-b26e770c4c71\n",
    "\n",
    "I found this article which was quite similar with what I had in mind for this project. This helped me to build the methodology to merge the data of all the pictures of an Instagram page. https://mode.com/blog/brand-colors-on-instagram/\n",
    "\n",
    "I used this library to extract Instagram pictures: https://instaloader.github.io/"
   ]
  },
  {
   "cell_type": "markdown",
   "metadata": {},
   "source": [
    "# Imports"
   ]
  },
  {
   "cell_type": "code",
   "execution_count": 1,
   "metadata": {},
   "outputs": [],
   "source": [
    "import pandas as pd"
   ]
  },
  {
   "cell_type": "code",
   "execution_count": 2,
   "metadata": {},
   "outputs": [],
   "source": [
    "from sklearn.cluster import KMeans\n",
    "import matplotlib.pyplot as plt\n",
    "import numpy as np\n",
    "import cv2\n",
    "from collections import Counter\n",
    "from skimage.color import rgb2lab, deltaE_cie76\n",
    "import os\n",
    "\n",
    "%matplotlib inline"
   ]
  },
  {
   "cell_type": "code",
   "execution_count": 3,
   "metadata": {},
   "outputs": [],
   "source": [
    "import instaloader"
   ]
  },
  {
   "cell_type": "code",
   "execution_count": 4,
   "metadata": {},
   "outputs": [],
   "source": [
    "import glob\n",
    "from PIL import Image\n",
    "import xlsxwriter\n",
    "import os"
   ]
  },
  {
   "cell_type": "code",
   "execution_count": 5,
   "metadata": {},
   "outputs": [],
   "source": [
    "import time as t"
   ]
  },
  {
   "cell_type": "code",
   "execution_count": 6,
   "metadata": {},
   "outputs": [],
   "source": [
    "import colorsys as cs"
   ]
  },
  {
   "cell_type": "code",
   "execution_count": 7,
   "metadata": {},
   "outputs": [],
   "source": [
    "from datetime import datetime\n",
    "from itertools import dropwhile, takewhile"
   ]
  },
  {
   "cell_type": "markdown",
   "metadata": {},
   "source": [
    "# Instagram image extraction + image analysis"
   ]
  },
  {
   "cell_type": "markdown",
   "metadata": {},
   "source": [
    "#### What is the Instagram page name?"
   ]
  },
  {
   "cell_type": "code",
   "execution_count": 8,
   "metadata": {},
   "outputs": [
    {
     "name": "stdout",
     "output_type": "stream",
     "text": [
      "What is the Instagram page name?burgerking\n"
     ]
    }
   ],
   "source": [
    "IG_page_name = input('What is the Instagram page name?')"
   ]
  },
  {
   "cell_type": "markdown",
   "metadata": {},
   "source": [
    "#### Instagram image extraction"
   ]
  },
  {
   "cell_type": "markdown",
   "metadata": {},
   "source": [
    "In this part, I use the Instaloader library to extract the images (not the videos) of an Instagram page."
   ]
  },
  {
   "cell_type": "code",
   "execution_count": 9,
   "metadata": {},
   "outputs": [],
   "source": [
    "L = instaloader.Instaloader()"
   ]
  },
  {
   "cell_type": "code",
   "execution_count": 10,
   "metadata": {},
   "outputs": [],
   "source": [
    "#L.login(\"login\",\"password\")"
   ]
  },
  {
   "cell_type": "code",
   "execution_count": 11,
   "metadata": {},
   "outputs": [],
   "source": [
    "L = instaloader.Instaloader(download_videos = False,\n",
    "                            download_video_thumbnails = False,\n",
    "                            download_geotags = False,\n",
    "                            download_comments = False,\n",
    "                            save_metadata = False,\n",
    "                            post_metadata_txt_pattern = \"\")\n",
    "profile = instaloader.Profile.from_username(L.context, IG_page_name).get_posts()"
   ]
  },
  {
   "cell_type": "markdown",
   "metadata": {},
   "source": [
    "I give the user the possibility to choose between collecting all the pictures of the Instagram page or restrict the collection to a specific timeframe. Instagram has limit rates which can be reached quickly if the Instagram page has too many posts. Selecting a specific timeframe (2020 only for example) can help to avoid reaching the limit. "
   ]
  },
  {
   "cell_type": "code",
   "execution_count": 12,
   "metadata": {},
   "outputs": [
    {
     "name": "stdout",
     "output_type": "stream",
     "text": [
      "Do you want to collect all the data or select a timeframe? (format: 'all data' or 'timeframe')all data\n",
      "burgerking/2021-01-15_00-01-58_UTC_1.jpg burgerking/2021-01-15_00-01-58_UTC_2.jpg burgerking/2021-01-15_00-01-58_UTC_3.jpg burgerking/2021-01-15_00-01-58_UTC_4.jpg \n",
      "burgerking/2021-01-08_22-35-22_UTC_1.jpg burgerking/2021-01-08_22-35-22_UTC_2.jpg burgerking/2021-01-08_22-35-22_UTC_3.jpg burgerking/2021-01-08_22-35-22_UTC_4.jpg burgerking/2021-01-08_22-35-22_UTC_5.jpg burgerking/2021-01-08_22-35-22_UTC_6.jpg burgerking/2021-01-08_22-35-22_UTC_7.jpg \n",
      "\n",
      "burgerking/2020-12-22_01-04-22_UTC.jpg \n",
      "burgerking/2020-12-20_16-40-38_UTC.jpg \n",
      "\n",
      "burgerking/2020-12-07_21-27-27_UTC_1.jpg burgerking/2020-12-07_21-27-27_UTC_2.jpg \n",
      "burgerking/2020-12-04_17-41-57_UTC_1.jpg burgerking/2020-12-04_17-41-57_UTC_2.jpg \n",
      "burgerking/2020-12-01_18-07-01_UTC_1.jpg burgerking/2020-12-01_18-07-01_UTC_2.jpg \n",
      "burgerking/2020-11-24_19-00-09_UTC.jpg \n",
      "burgerking/2020-11-17_16-07-34_UTC.jpg \n",
      "burgerking/2020-11-14_20-00-28_UTC.jpg \n",
      "burgerking/2020-11-13_21-00-18_UTC.jpg \n",
      "burgerking/2020-11-12_18-23-02_UTC.jpg \n",
      "burgerking/2020-11-09_16-00-20_UTC.jpg \n",
      "burgerking/2020-10-28_15-26-46_UTC.jpg \n",
      "burgerking/2020-10-25_16-17-04_UTC.jpg \n",
      "\n",
      "burgerking/2020-10-17_15-00-27_UTC.jpg \n",
      "\n",
      "burgerking/2020-10-14_16-55-06_UTC.jpg \n",
      "\n",
      "burgerking/2020-10-10_15-00-18_UTC.jpg \n",
      "\n",
      "burgerking/2020-10-02_13-06-25_UTC.jpg \n",
      "burgerking/2020-09-30_17-33-21_UTC.jpg \n",
      "burgerking/2020-09-29_17-50-12_UTC_1.jpg burgerking/2020-09-29_17-50-12_UTC_2.jpg \n",
      "burgerking/2020-09-24_19-00-08_UTC.jpg \n",
      "burgerking/2020-09-23_14-06-51_UTC.jpg \n",
      "burgerking/2020-09-17_13-00-33_UTC_1.jpg burgerking/2020-09-17_13-00-33_UTC_2.jpg burgerking/2020-09-17_13-00-33_UTC_3.jpg burgerking/2020-09-17_13-00-33_UTC_4.jpg burgerking/2020-09-17_13-00-33_UTC_5.jpg burgerking/2020-09-17_13-00-33_UTC_6.jpg burgerking/2020-09-17_13-00-33_UTC_7.jpg burgerking/2020-09-17_13-00-33_UTC_8.jpg burgerking/2020-09-17_13-00-33_UTC_9.jpg \n",
      "burgerking/2020-09-14_16-19-01_UTC.jpg \n",
      "burgerking/2020-09-12_15-07-08_UTC.jpg \n",
      "burgerking/2020-09-07_14-07-17_UTC.jpg \n",
      "burgerking/2020-09-03_14-30-05_UTC.jpg \n",
      "burgerking/2020-09-02_20-27-22_UTC_1.jpg burgerking/2020-09-02_20-27-22_UTC_2.jpg burgerking/2020-09-02_20-27-22_UTC_3.jpg burgerking/2020-09-02_20-27-22_UTC_4.jpg \n",
      "burgerking/2020-08-25_16-33-34_UTC.jpg \n",
      "burgerking/2020-08-20_14-16-59_UTC.jpg \n",
      "burgerking/2020-08-18_18-43-08_UTC.jpg \n",
      "burgerking/2020-08-15_15-00-02_UTC_1.jpg burgerking/2020-08-15_15-00-02_UTC_2.jpg \n",
      "burgerking/2020-08-14_18-59-30_UTC.jpg \n",
      "burgerking/2020-08-12_13-06-20_UTC.jpg \n",
      "burgerking/2020-08-05_19-32-38_UTC.jpg \n",
      "burgerking/2020-07-29_15-50-41_UTC.jpg \n",
      "burgerking/2020-07-27_14-00-03_UTC.jpg \n",
      "burgerking/2020-07-23_13-00-14_UTC.jpg \n",
      "burgerking/2020-06-26_14-26-03_UTC.jpg \n",
      "burgerking/2020-06-25_14-00-59_UTC_1.jpg burgerking/2020-06-25_14-00-59_UTC_2.jpg burgerking/2020-06-25_14-00-59_UTC_3.jpg burgerking/2020-06-25_14-00-59_UTC_4.jpg \n",
      "\n",
      "\n",
      "burgerking/2020-06-15_19-05-21_UTC.jpg \n",
      "burgerking/2020-06-02_23-57-55_UTC.jpg \n",
      "burgerking/2020-05-20_14-03-49_UTC.jpg \n",
      "burgerking/2020-05-19_15-56-56_UTC.jpg \n",
      "burgerking/2020-05-14_14-27-51_UTC.jpg \n",
      "burgerking/2020-05-07_22-06-04_UTC.jpg \n",
      "burgerking/2020-05-04_22-09-59_UTC.jpg \n",
      "burgerking/2020-04-29_16-06-29_UTC.jpg \n",
      "burgerking/2020-04-23_23-22-49_UTC.jpg \n",
      "burgerking/2020-04-18_15-39-54_UTC.jpg \n",
      "burgerking/2020-04-11_14-01-48_UTC.jpg \n",
      "burgerking/2020-04-09_13-15-56_UTC.jpg \n",
      "burgerking/2020-04-09_00-54-13_UTC.jpg \n",
      "burgerking/2020-04-08_20-25-05_UTC.jpg \n",
      "burgerking/2020-04-07_23-07-01_UTC.jpg \n",
      "burgerking/2020-04-06_20-51-12_UTC.jpg \n",
      "burgerking/2020-04-03_14-28-01_UTC.jpg \n",
      "burgerking/2020-04-02_14-22-24_UTC.jpg \n",
      "burgerking/2020-04-01_15-31-33_UTC.jpg \n",
      "burgerking/2020-03-25_17-24-37_UTC.jpg \n",
      "burgerking/2020-03-23_15-06-53_UTC.jpg \n",
      "burgerking/2020-03-18_16-12-56_UTC.jpg \n",
      "burgerking/2020-03-17_21-23-00_UTC.jpg \n",
      "burgerking/2020-03-12_16-04-03_UTC.jpg \n",
      "burgerking/2020-03-02_13-04-11_UTC.jpg \n",
      "burgerking/2020-02-27_15-29-27_UTC.jpg \n",
      "burgerking/2020-02-19_13-01-06_UTC_1.jpg burgerking/2020-02-19_13-01-06_UTC_2.jpg burgerking/2020-02-19_13-01-06_UTC_3.jpg burgerking/2020-02-19_13-01-06_UTC_4.jpg burgerking/2020-02-19_13-01-06_UTC_5.jpg \n",
      "burgerking/2020-02-13_16-42-50_UTC.jpg \n",
      "burgerking/2020-02-06_15-03-17_UTC.jpg \n",
      "burgerking/2020-01-31_18-30-13_UTC.jpg \n",
      "burgerking/2020-01-27_16-03-14_UTC.jpg \n",
      "burgerking/2020-01-24_18-23-06_UTC.jpg \n",
      "burgerking/2020-01-22_15-12-53_UTC.jpg \n",
      "burgerking/2020-01-17_15-05-38_UTC.jpg \n",
      "burgerking/2020-01-16_15-03-29_UTC.jpg \n",
      "burgerking/2020-01-14_00-45-09_UTC_1.jpg burgerking/2020-01-14_00-45-09_UTC_2.jpg burgerking/2020-01-14_00-45-09_UTC_3.jpg \n",
      "burgerking/2020-01-10_15-05-48_UTC.jpg \n",
      "burgerking/2020-01-03_15-01-35_UTC.jpg \n",
      "burgerking/2019-12-05_17-11-30_UTC.jpg \n",
      "burgerking/2019-12-04_15-04-26_UTC.jpg \n",
      "burgerking/2019-12-02_17-26-50_UTC.jpg \n",
      "burgerking/2019-11-27_15-16-04_UTC.jpg \n",
      "burgerking/2019-11-12_15-17-02_UTC.jpg \n",
      "burgerking/2019-11-11_15-11-21_UTC.jpg \n",
      "burgerking/2019-11-08_15-10-24_UTC.jpg \n",
      "burgerking/2019-11-06_15-22-06_UTC.jpg \n",
      "burgerking/2019-10-29_13-42-31_UTC.jpg \n",
      "burgerking/2019-10-25_15-12-39_UTC.jpg \n",
      "burgerking/2019-10-22_13-59-53_UTC.jpg \n",
      "burgerking/2019-10-21_15-09-56_UTC.jpg \n",
      "burgerking/2019-10-18_14-37-35_UTC.jpg \n",
      "burgerking/2019-10-15_13-00-52_UTC.jpg \n",
      "burgerking/2019-10-10_14-08-51_UTC.jpg \n",
      "burgerking/2019-10-01_15-13-52_UTC.jpg \n",
      "burgerking/2019-09-26_14-16-10_UTC.jpg \n",
      "burgerking/2019-09-19_14-01-58_UTC.jpg \n",
      "burgerking/2019-09-10_15-15-29_UTC.jpg \n",
      "burgerking/2019-09-03_16-31-54_UTC.jpg \n",
      "burgerking/2019-08-29_14-07-24_UTC.jpg \n",
      "burgerking/2019-08-22_14-34-25_UTC.jpg \n",
      "burgerking/2019-08-20_17-58-33_UTC.jpg \n",
      "burgerking/2019-08-15_13-46-39_UTC.jpg \n",
      "burgerking/2019-08-13_13-59-55_UTC.jpg \n",
      "burgerking/2019-08-08_13-00-07_UTC.jpg \n",
      "burgerking/2019-08-06_14-32-17_UTC.jpg \n",
      "burgerking/2019-07-25_15-34-13_UTC.jpg \n",
      "burgerking/2019-07-24_16-52-19_UTC.jpg \n",
      "burgerking/2019-07-22_14-40-17_UTC.jpg \n",
      "burgerking/2019-07-19_15-53-26_UTC.jpg \n",
      "burgerking/2019-07-11_14-06-12_UTC.jpg \n",
      "burgerking/2019-07-02_14-15-34_UTC.jpg \n",
      "burgerking/2019-06-24_14-41-50_UTC.jpg \n",
      "burgerking/2019-06-21_14-40-44_UTC.jpg \n",
      "burgerking/2019-06-11_16-04-08_UTC.jpg \n",
      "burgerking/2019-06-07_14-00-16_UTC.jpg \n",
      "burgerking/2019-06-06_14-50-47_UTC.jpg \n",
      "burgerking/2019-06-03_14-06-38_UTC.jpg \n",
      "burgerking/2019-05-31_14-01-41_UTC.jpg \n",
      "burgerking/2019-05-30_13-36-07_UTC.jpg \n",
      "burgerking/2019-05-16_15-02-19_UTC.jpg \n",
      "burgerking/2019-05-10_13-03-39_UTC.jpg \n",
      "burgerking/2019-04-30_12-23-40_UTC.jpg \n",
      "burgerking/2019-04-22_14-36-57_UTC.jpg \n",
      "burgerking/2019-04-18_15-21-46_UTC.jpg \n",
      "burgerking/2019-04-12_16-04-29_UTC.jpg \n",
      "burgerking/2019-04-11_14-38-07_UTC.jpg \n",
      "burgerking/2019-04-05_15-21-22_UTC.jpg \n",
      "burgerking/2019-04-03_14-28-57_UTC.jpg \n",
      "burgerking/2019-03-28_16-15-13_UTC.jpg \n",
      "burgerking/2019-03-21_18-01-16_UTC.jpg \n",
      "burgerking/2019-03-18_15-31-32_UTC.jpg \n",
      "burgerking/2019-03-11_16-08-09_UTC.jpg \n",
      "burgerking/2019-03-08_16-10-16_UTC.jpg \n",
      "burgerking/2019-03-06_15-23-58_UTC.jpg \n",
      "burgerking/2019-03-04_15-02-57_UTC.jpg \n",
      "burgerking/2019-02-25_15-59-23_UTC.jpg \n",
      "burgerking/2019-02-22_15-58-06_UTC.jpg \n",
      "burgerking/2019-02-21_14-17-55_UTC.jpg \n",
      "burgerking/2019-02-18_15-02-44_UTC.jpg \n",
      "burgerking/2019-02-14_14-53-45_UTC.jpg \n",
      "burgerking/2019-02-07_19-31-57_UTC.jpg \n",
      "burgerking/2019-02-04_02-27-36_UTC.jpg \n",
      "burgerking/2019-01-29_18-43-41_UTC.jpg \n",
      "burgerking/2019-01-25_16-35-16_UTC.jpg \n",
      "\n",
      "burgerking/2019-01-24_01-14-27_UTC.jpg \n",
      "burgerking/2019-01-22_15-22-49_UTC.jpg \n",
      "burgerking/2019-01-18_21-15-05_UTC.jpg \n",
      "burgerking/2019-01-17_14-58-56_UTC.jpg \n",
      "burgerking/2019-01-15_16-22-40_UTC.jpg \n",
      "burgerking/2019-01-09_16-20-34_UTC.jpg \n",
      "burgerking/2019-01-03_15-20-04_UTC.jpg \n",
      "burgerking/2018-12-27_15-02-38_UTC.jpg \n",
      "burgerking/2018-12-10_15-17-52_UTC.jpg \n",
      "burgerking/2018-12-07_16-41-19_UTC.jpg \n",
      "burgerking/2018-12-06_21-20-08_UTC.jpg \n",
      "burgerking/2018-12-03_15-00-56_UTC.jpg \n",
      "burgerking/2018-11-30_16-27-41_UTC.jpg \n",
      "burgerking/2018-11-29_15-12-54_UTC.jpg \n",
      "burgerking/2018-11-20_15-01-53_UTC.jpg \n",
      "burgerking/2018-11-15_15-02-00_UTC.jpg \n",
      "burgerking/2018-11-14_15-24-36_UTC.jpg \n",
      "burgerking/2018-11-08_15-03-43_UTC.jpg \n",
      "burgerking/2018-11-06_15-29-14_UTC.jpg \n",
      "\n",
      "burgerking/2018-10-29_14-50-26_UTC.jpg \n",
      "\n",
      "burgerking/2018-10-24_15-30-37_UTC.jpg \n"
     ]
    },
    {
     "name": "stdout",
     "output_type": "stream",
     "text": [
      "burgerking/2018-10-22_13-59-54_UTC.jpg \n",
      "burgerking/2018-10-18_16-45-54_UTC.jpg \n",
      "burgerking/2018-10-16_18-09-37_UTC.jpg \n",
      "\n",
      "burgerking/2018-10-11_14-01-45_UTC.jpg \n",
      "burgerking/2018-10-02_14-11-17_UTC.jpg \n",
      "burgerking/2018-09-27_14-59-33_UTC.jpg \n",
      "burgerking/2018-09-24_14-31-30_UTC.jpg \n",
      "burgerking/2018-09-20_14-01-23_UTC.jpg \n",
      "burgerking/2018-09-18_15-51-48_UTC.jpg \n",
      "burgerking/2018-09-14_14-08-30_UTC.jpg \n",
      "burgerking/2018-09-11_15-06-37_UTC.jpg \n",
      "burgerking/2018-09-07_14-00-09_UTC.jpg \n",
      "burgerking/2018-09-04_16-03-13_UTC.jpg \n",
      "burgerking/2018-08-27_13-59-22_UTC.jpg \n",
      "burgerking/2018-08-24_14-10-07_UTC.jpg \n",
      "burgerking/2018-08-21_15-12-22_UTC.jpg \n",
      "burgerking/2018-08-16_13-58-51_UTC.jpg \n",
      "burgerking/2018-08-14_14-29-47_UTC.jpg \n",
      "burgerking/2018-08-08_14-28-26_UTC.jpg \n",
      "burgerking/2018-08-03_16-14-34_UTC.jpg \n",
      "burgerking/2018-07-31_16-16-01_UTC.jpg \n",
      "burgerking/2018-07-26_13-59-25_UTC.jpg \n",
      "burgerking/2018-07-23_14-28-05_UTC.jpg \n",
      "burgerking/2018-07-15_15-31-01_UTC.jpg \n",
      "burgerking/2018-07-09_13-00-46_UTC.jpg \n",
      "burgerking/2018-07-07_14-00-29_UTC.jpg \n",
      "burgerking/2018-06-30_14-17-52_UTC.jpg \n",
      "burgerking/2018-06-28_15-31-20_UTC.jpg \n",
      "burgerking/2018-06-22_14-31-22_UTC.jpg \n",
      "burgerking/2018-06-17_13-59-54_UTC.jpg \n",
      "burgerking/2018-06-13_14-33-58_UTC.jpg \n",
      "burgerking/2018-06-11_15-15-20_UTC.jpg \n",
      "burgerking/2018-06-07_14-37-18_UTC.jpg \n",
      "burgerking/2018-06-01_14-00-43_UTC.jpg \n",
      "\n",
      "burgerking/2018-05-22_15-17-57_UTC.jpg \n",
      "burgerking/2018-05-14_12-00-11_UTC.jpg \n",
      "burgerking/2018-05-10_13-59-36_UTC.jpg \n",
      "burgerking/2018-05-06_14-00-01_UTC.jpg \n",
      "burgerking/2018-05-04_14-46-22_UTC.jpg \n",
      "burgerking/2018-04-27_16-01-18_UTC.jpg \n",
      "burgerking/2018-04-24_19-10-03_UTC.jpg \n",
      "burgerking/2018-04-19_15-09-49_UTC.jpg \n",
      "burgerking/2018-04-13_13-00-00_UTC.jpg \n",
      "\n",
      "\n",
      "\n",
      "\n",
      "burgerking/2018-03-29_15-30-50_UTC.jpg \n",
      "\n",
      "\n",
      "burgerking/2018-03-16_13-31-22_UTC.jpg \n",
      "burgerking/2018-03-12_16-02-22_UTC.jpg \n",
      "burgerking/2018-03-07_17-18-33_UTC.jpg \n",
      "burgerking/2018-03-06_19-38-13_UTC.jpg \n",
      "\n",
      "burgerking/2018-02-28_15-25-46_UTC.jpg \n",
      "\n",
      "burgerking/2018-02-23_21-53-40_UTC.jpg \n",
      "burgerking/2018-02-21_21-09-27_UTC.jpg \n",
      "burgerking/2018-02-20_17-33-11_UTC.jpg \n",
      "burgerking/2018-02-17_17-45-45_UTC.jpg \n",
      "burgerking/2018-02-15_18-00-59_UTC.jpg \n",
      "burgerking/2018-02-13_20-34-49_UTC.jpg \n",
      "\n",
      "burgerking/2018-02-05_17-51-55_UTC.jpg \n",
      "burgerking/2018-02-02_17-30-56_UTC.jpg \n",
      "burgerking/2018-01-29_22-01-17_UTC_1.jpg burgerking/2018-01-29_22-01-17_UTC_2.jpg burgerking/2018-01-29_22-01-17_UTC_3.jpg burgerking/2018-01-29_22-01-17_UTC_4.jpg burgerking/2018-01-29_22-01-17_UTC_5.jpg \n",
      "\n",
      "\n",
      "burgerking/2018-01-22_17-10-18_UTC.jpg \n",
      "\n",
      "\n",
      "burgerking/2018-01-09_16-34-55_UTC.jpg \n",
      "burgerking/2018-01-07_20-56-45_UTC_1.jpg burgerking/2018-01-07_20-56-45_UTC_2.jpg burgerking/2018-01-07_20-56-45_UTC_3.jpg \n",
      "\n",
      "\n",
      "burgerking/2017-12-30_20-02-46_UTC.jpg \n",
      "\n",
      "\n",
      "burgerking/2017-12-23_19-01-49_UTC.jpg \n",
      "\n",
      "\n",
      "burgerking/2017-12-12_18-21-03_UTC.jpg \n",
      "\n",
      "\n",
      "burgerking/2017-12-04_18-18-40_UTC.jpg \n",
      "burgerking/2017-11-29_14-48-02_UTC.jpg \n",
      "\n",
      "\n",
      "\n",
      "\n",
      "burgerking/2017-11-09_20-27-04_UTC.jpg \n",
      "\n",
      "\n",
      "\n",
      "burgerking/2017-10-31_14-02-37_UTC_1.jpg burgerking/2017-10-31_14-02-37_UTC_2.jpg burgerking/2017-10-31_14-02-37_UTC_3.jpg burgerking/2017-10-31_14-02-37_UTC_4.jpg burgerking/2017-10-31_14-02-37_UTC_5.jpg burgerking/2017-10-31_14-02-37_UTC_6.jpg \n",
      "burgerking/2017-10-25_18-32-18_UTC.jpg \n",
      "burgerking/2017-10-24_12-41-51_UTC.jpg \n",
      "\n",
      "burgerking/2017-10-18_18-25-08_UTC.jpg \n",
      "\n",
      "burgerking/2017-09-28_16-00-49_UTC.jpg \n",
      "burgerking/2017-09-25_19-16-51_UTC.jpg \n",
      "burgerking/2017-09-22_17-35-03_UTC.jpg \n",
      "burgerking/2017-09-14_17-11-09_UTC.jpg \n",
      "burgerking/2017-09-12_18-15-14_UTC.jpg \n",
      "burgerking/2017-09-08_20-33-07_UTC.jpg \n",
      "burgerking/2017-09-04_16-02-12_UTC.jpg \n",
      "burgerking/2017-09-02_13-47-26_UTC_1.jpg burgerking/2017-09-02_13-47-26_UTC_2.jpg burgerking/2017-09-02_13-47-26_UTC_3.jpg \n",
      "burgerking/2017-08-31_17-03-02_UTC.jpg \n",
      "burgerking/2017-08-26_19-09-16_UTC.jpg \n",
      "burgerking/2017-08-24_19-20-18_UTC.jpg \n",
      "burgerking/2017-08-23_18-10-02_UTC.jpg \n",
      "burgerking/2017-08-19_15-58-46_UTC.jpg \n",
      "burgerking/2017-08-17_19-40-54_UTC.jpg \n",
      "burgerking/2017-08-08_20-46-24_UTC.jpg \n",
      "\n",
      "burgerking/2017-08-02_16-16-36_UTC.jpg \n",
      "burgerking/2017-07-31_13-38-46_UTC.jpg \n",
      "burgerking/2017-07-25_16-56-47_UTC.jpg \n",
      "burgerking/2017-07-20_15-59-38_UTC.jpg \n",
      "burgerking/2017-07-19_16-16-42_UTC.jpg \n",
      "burgerking/2017-07-16_19-38-59_UTC.jpg \n"
     ]
    }
   ],
   "source": [
    "data_collection = input(\"Do you want to collect all the data or select a timeframe? (format: 'all data' or 'timeframe')\")\n",
    "\n",
    "if data_collection == \"all data\":\n",
    "    for post in profile:\n",
    "        L.download_post(post, IG_page_name)\n",
    "        \n",
    "elif data_collection == \"timeframe\":\n",
    "    until_date = input(\"What is the start date? (format: X/X/20XX)\")\n",
    "    since_date = input(\"What is the end date? (format: X/X/20XX)\")\n",
    "\n",
    "    until_day = int(until_date.split(sep='/')[0])\n",
    "    until_month = int(until_date.split(sep='/')[1])\n",
    "    until_year = int(until_date.split(sep='/')[2])\n",
    "    since_day = int(since_date.split(sep='/')[0])\n",
    "    since_month = int(since_date.split(sep='/')[1])\n",
    "    since_year = int(since_date.split(sep='/')[2])\n",
    "    \n",
    "    SINCE = datetime(since_year, since_month, since_day)\n",
    "    UNTIL = datetime(until_year, until_month, until_day)\n",
    "\n",
    "    for post in takewhile(lambda p: p.date > UNTIL, dropwhile(lambda p: p.date > SINCE, profile)):\n",
    "        L.download_post(post, IG_page_name)"
   ]
  },
  {
   "cell_type": "markdown",
   "metadata": {},
   "source": [
    "#### Image analysis functions"
   ]
  },
  {
   "cell_type": "markdown",
   "metadata": {},
   "source": [
    "Here I define functions to treat the images and extract their top colors. I use the K-Means clustering Machine Learning algorithm. **I set the number of clusters to 3**. I decided to set it at 3 because I want to extract the top 3 colors of a picture. However, this might not be ideal for all the pictures (these which are rich in colors). The ideal approach here would be to perform the elbow method to select the perfect number of clusters for each picture. I keep this in mind for further enhancements of the code. My main goal in this project is to have a Minimum Viable Product.\n",
    "\n",
    "Besides, the algorithm will be performed on resized pictures in order to reduce the code processing time."
   ]
  },
  {
   "cell_type": "code",
   "execution_count": 13,
   "metadata": {},
   "outputs": [],
   "source": [
    "def RGB2HEX(color):\n",
    "    return \"#{:02x}{:02x}{:02x}\".format(int(color[0]), int(color[1]), int(color[2]))"
   ]
  },
  {
   "cell_type": "code",
   "execution_count": 14,
   "metadata": {},
   "outputs": [],
   "source": [
    "def get_image(image_path):\n",
    "    image = cv2.imread(image_path)\n",
    "    image = cv2.cvtColor(image, cv2.COLOR_BGR2RGB)\n",
    "    return image"
   ]
  },
  {
   "cell_type": "code",
   "execution_count": 15,
   "metadata": {},
   "outputs": [],
   "source": [
    "def get_colors(image, number_of_colors, show_chart):\n",
    "    \n",
    "    modified_image = cv2.resize(image, (600, 400), interpolation = cv2.INTER_AREA)\n",
    "    modified_image = modified_image.reshape(modified_image.shape[0]*modified_image.shape[1], 3)\n",
    "    \n",
    "    clf = KMeans(n_clusters = number_of_colors)\n",
    "    labels = clf.fit_predict(modified_image)\n",
    "    \n",
    "    counts = Counter(labels)\n",
    "\n",
    "    # sort to ensure correct color percentage\n",
    "    counts = dict(sorted(counts.items()))\n",
    "    \n",
    "    center_colors = clf.cluster_centers_\n",
    "    # We get ordered colors by iterating through the keys\n",
    "    ordered_colors = [center_colors[i] for i in counts.keys()]\n",
    "    hex_colors = [RGB2HEX(ordered_colors[i]) for i in counts.keys()]\n",
    "    rgb_colors = [ordered_colors[i] for i in counts.keys()]\n",
    "    \n",
    "    index_max_RGB = list(counts.values()).index(max(list(counts.values())))\n",
    "    max_RGB = list(rgb_colors[index_max_RGB])\n",
    "    \n",
    "    if (show_chart):\n",
    "        plt.figure(figsize = (8, 6))\n",
    "        plt.pie(counts.values(), labels = hex_colors, colors = hex_colors)\n",
    "    \n",
    "    return max_RGB"
   ]
  },
  {
   "cell_type": "markdown",
   "metadata": {},
   "source": [
    "#### For loop: Excel creation + image analysis"
   ]
  },
  {
   "cell_type": "markdown",
   "metadata": {},
   "source": [
    "**This for loop is where all the magic happens!** An Excel file is created on which I keep track of each picture analysed and save their respective top RGB color (determined by the K-Means clustering algorithm)."
   ]
  },
  {
   "cell_type": "code",
   "execution_count": 16,
   "metadata": {},
   "outputs": [
    {
     "name": "stderr",
     "output_type": "stream",
     "text": [
      "/Users/salim/opt/anaconda3/lib/python3.7/site-packages/sklearn/cluster/k_means_.py:972: ConvergenceWarning: Number of distinct clusters (1) found smaller than n_clusters (3). Possibly due to duplicate points in X.\n",
      "  return_n_iter=True)\n"
     ]
    },
    {
     "name": "stdout",
     "output_type": "stream",
     "text": [
      "The code lasted 7 minutes and 3 seconds.\n"
     ]
    }
   ],
   "source": [
    "#Start timer\n",
    "start = t.time()\n",
    "\n",
    "#Put all images of an Instagram page in an Excel file\n",
    "images=glob.glob(IG_page_name+\"/*.jpg\")\n",
    "workbook = xlsxwriter.Workbook('images_'+IG_page_name+'.xlsx')\n",
    "worksheet = workbook.add_worksheet()\n",
    "worksheet.set_column('A:B', 15)\n",
    "worksheet.set_row(1, 70)\n",
    "bold = workbook.add_format({'bold': True})\n",
    "\n",
    "worksheet.write('A1', 'Image', bold)\n",
    "worksheet.write('B1', 'R', bold)\n",
    "worksheet.write('C1', 'G', bold)\n",
    "worksheet.write('D1', 'B', bold)\n",
    "\n",
    "i=2\n",
    "for image in images:\n",
    "    with Image.open(image) as img:\n",
    "        width_100 = img.width\n",
    "        height_100 = img.height\n",
    "    width_30 = int(round(width_100 * 0.1, 0))\n",
    "    img = Image.open(image)\n",
    "    wpercent = (width_30/float(width_100))\n",
    "    hsize = int((float(height_100)*float(wpercent)))\n",
    "    img = img.resize((width_30,hsize), Image.ANTIALIAS)\n",
    "    img_name = 'local'+str(i)+'.jpg'\n",
    "    img.save(img_name)\n",
    "    worksheet.set_row(i-1, hsize)\n",
    "    worksheet.insert_image('A'+str(i), img_name)\n",
    "    \n",
    "    #Image analysis, get max RGB value and input in excel file\n",
    "    max_RGB = get_colors(get_image(img_name), 3, False)\n",
    "    worksheet.write('B'+str(i), max_RGB[0])\n",
    "    worksheet.write('C'+str(i), max_RGB[1])\n",
    "    worksheet.write('D'+str(i), max_RGB[2])\n",
    "    \n",
    "    i=i+1\n",
    "    #break\n",
    "    \n",
    "workbook.close()\n",
    "\n",
    "#Delete all images in file directory because temp images were created\n",
    "for image in glob.glob(\"*.jpg\"):\n",
    "    os.remove(image)\n",
    "\n",
    "#End timer\n",
    "end = t.time()\n",
    "\n",
    "#Duration timer\n",
    "duration = end - start\n",
    "if duration > 60:\n",
    "    minutes = int(duration/60)\n",
    "    seconds = int(duration - int(duration/60)*60)\n",
    "    if minutes == 1:\n",
    "        print(\"The code lasted\", minutes, \"minute and\", seconds, \"seconds.\")\n",
    "    else:\n",
    "        print(\"The code lasted\", minutes, \"minutes and\", seconds, \"seconds.\")\n",
    "else:\n",
    "    print(\"The code lasted\", int(duration), \"seconds.\")"
   ]
  },
  {
   "cell_type": "code",
   "execution_count": 17,
   "metadata": {},
   "outputs": [],
   "source": [
    "data = pd.read_excel('images_'+IG_page_name+'.xlsx')"
   ]
  },
  {
   "cell_type": "code",
   "execution_count": 18,
   "metadata": {},
   "outputs": [
    {
     "data": {
      "text/html": [
       "<div>\n",
       "<style scoped>\n",
       "    .dataframe tbody tr th:only-of-type {\n",
       "        vertical-align: middle;\n",
       "    }\n",
       "\n",
       "    .dataframe tbody tr th {\n",
       "        vertical-align: top;\n",
       "    }\n",
       "\n",
       "    .dataframe thead th {\n",
       "        text-align: right;\n",
       "    }\n",
       "</style>\n",
       "<table border=\"1\" class=\"dataframe\">\n",
       "  <thead>\n",
       "    <tr style=\"text-align: right;\">\n",
       "      <th></th>\n",
       "      <th>Image</th>\n",
       "      <th>R</th>\n",
       "      <th>G</th>\n",
       "      <th>B</th>\n",
       "    </tr>\n",
       "  </thead>\n",
       "  <tbody>\n",
       "    <tr>\n",
       "      <td>0</td>\n",
       "      <td>NaN</td>\n",
       "      <td>144.403221</td>\n",
       "      <td>93.195444</td>\n",
       "      <td>52.357260</td>\n",
       "    </tr>\n",
       "    <tr>\n",
       "      <td>1</td>\n",
       "      <td>NaN</td>\n",
       "      <td>223.474224</td>\n",
       "      <td>215.881888</td>\n",
       "      <td>205.600926</td>\n",
       "    </tr>\n",
       "    <tr>\n",
       "      <td>2</td>\n",
       "      <td>NaN</td>\n",
       "      <td>237.566201</td>\n",
       "      <td>232.551368</td>\n",
       "      <td>216.985598</td>\n",
       "    </tr>\n",
       "    <tr>\n",
       "      <td>3</td>\n",
       "      <td>NaN</td>\n",
       "      <td>89.362357</td>\n",
       "      <td>87.579111</td>\n",
       "      <td>43.520526</td>\n",
       "    </tr>\n",
       "    <tr>\n",
       "      <td>4</td>\n",
       "      <td>NaN</td>\n",
       "      <td>202.553669</td>\n",
       "      <td>141.304662</td>\n",
       "      <td>64.804900</td>\n",
       "    </tr>\n",
       "  </tbody>\n",
       "</table>\n",
       "</div>"
      ],
      "text/plain": [
       "   Image           R           G           B\n",
       "0    NaN  144.403221   93.195444   52.357260\n",
       "1    NaN  223.474224  215.881888  205.600926\n",
       "2    NaN  237.566201  232.551368  216.985598\n",
       "3    NaN   89.362357   87.579111   43.520526\n",
       "4    NaN  202.553669  141.304662   64.804900"
      ]
     },
     "execution_count": 18,
     "metadata": {},
     "output_type": "execute_result"
    }
   ],
   "source": [
    "data.head()"
   ]
  },
  {
   "cell_type": "markdown",
   "metadata": {},
   "source": [
    "#### RGB to HSL"
   ]
  },
  {
   "cell_type": "markdown",
   "metadata": {},
   "source": [
    "In here, I need to translate the RGB values into HSL values. HSL (Hue, Saturation, Lightness) is another color model which is understandable by humans.\n",
    "By itself, the HSL color model covers 3'600'000 colors. The objective in the next lines is to reduce the color range to 1'800 colors. The final goal is to group similar colors together. With more than 3 million colors, it is impossible to expect colors to be grouped together. Hence the color range reduction."
   ]
  },
  {
   "cell_type": "code",
   "execution_count": 19,
   "metadata": {},
   "outputs": [],
   "source": [
    "def round_to_tenth(n):\n",
    "    rem = n % 10\n",
    "    if rem < 5:\n",
    "        n = int(n / 10) * 10\n",
    "    else:\n",
    "        n = int((n + 10) / 10) * 10\n",
    "    return n"
   ]
  },
  {
   "cell_type": "code",
   "execution_count": 20,
   "metadata": {},
   "outputs": [],
   "source": [
    "def round_to_twentieth(n):\n",
    "    rem = n % 20\n",
    "    if rem < 10:\n",
    "        n = int(n / 20) * 20\n",
    "    else:\n",
    "        n = int((n + 20) / 20) * 20\n",
    "    return n"
   ]
  },
  {
   "cell_type": "code",
   "execution_count": 21,
   "metadata": {},
   "outputs": [
    {
     "name": "stderr",
     "output_type": "stream",
     "text": [
      "/Users/salim/opt/anaconda3/lib/python3.7/site-packages/pandas/core/indexing.py:205: SettingWithCopyWarning: \n",
      "A value is trying to be set on a copy of a slice from a DataFrame\n",
      "\n",
      "See the caveats in the documentation: http://pandas.pydata.org/pandas-docs/stable/user_guide/indexing.html#returning-a-view-versus-a-copy\n",
      "  self._setitem_with_indexer(indexer, value)\n"
     ]
    }
   ],
   "source": [
    "data['H'] = 0\n",
    "data['S'] = 0\n",
    "data['L'] = 0\n",
    "data['HSL'] = 0\n",
    "for i in range(0,len(data)):\n",
    "    data['H'].loc[i] = round_to_twentieth(cs.rgb_to_hls(data['R'].loc[i]/255,data['G'].loc[i]/255,data['B'].loc[i]/255)[0]*360)\n",
    "    data['S'].loc[i] = round_to_tenth(cs.rgb_to_hls(data['R'].loc[i]/255,data['G'].loc[i]/255,data['B'].loc[i]/255)[2]*100)\n",
    "    data['L'].loc[i] = round_to_tenth(cs.rgb_to_hls(data['R'].loc[i]/255,data['G'].loc[i]/255,data['B'].loc[i]/255)[1]*100)\n",
    "    data['HSL'].loc[i] = str(data['H'].loc[i]),str(data['S'].loc[i]),str(data['L'].loc[i])\n",
    "    \n",
    "    "
   ]
  },
  {
   "cell_type": "code",
   "execution_count": 22,
   "metadata": {},
   "outputs": [
    {
     "data": {
      "text/html": [
       "<div>\n",
       "<style scoped>\n",
       "    .dataframe tbody tr th:only-of-type {\n",
       "        vertical-align: middle;\n",
       "    }\n",
       "\n",
       "    .dataframe tbody tr th {\n",
       "        vertical-align: top;\n",
       "    }\n",
       "\n",
       "    .dataframe thead th {\n",
       "        text-align: right;\n",
       "    }\n",
       "</style>\n",
       "<table border=\"1\" class=\"dataframe\">\n",
       "  <thead>\n",
       "    <tr style=\"text-align: right;\">\n",
       "      <th></th>\n",
       "      <th>Image</th>\n",
       "      <th>R</th>\n",
       "      <th>G</th>\n",
       "      <th>B</th>\n",
       "      <th>H</th>\n",
       "      <th>S</th>\n",
       "      <th>L</th>\n",
       "      <th>HSL</th>\n",
       "    </tr>\n",
       "  </thead>\n",
       "  <tbody>\n",
       "    <tr>\n",
       "      <td>0</td>\n",
       "      <td>NaN</td>\n",
       "      <td>144.403221</td>\n",
       "      <td>93.195444</td>\n",
       "      <td>52.357260</td>\n",
       "      <td>20</td>\n",
       "      <td>50</td>\n",
       "      <td>40</td>\n",
       "      <td>(20, 50, 40)</td>\n",
       "    </tr>\n",
       "    <tr>\n",
       "      <td>1</td>\n",
       "      <td>NaN</td>\n",
       "      <td>223.474224</td>\n",
       "      <td>215.881888</td>\n",
       "      <td>205.600926</td>\n",
       "      <td>40</td>\n",
       "      <td>20</td>\n",
       "      <td>80</td>\n",
       "      <td>(40, 20, 80)</td>\n",
       "    </tr>\n",
       "    <tr>\n",
       "      <td>2</td>\n",
       "      <td>NaN</td>\n",
       "      <td>237.566201</td>\n",
       "      <td>232.551368</td>\n",
       "      <td>216.985598</td>\n",
       "      <td>40</td>\n",
       "      <td>40</td>\n",
       "      <td>90</td>\n",
       "      <td>(40, 40, 90)</td>\n",
       "    </tr>\n",
       "    <tr>\n",
       "      <td>3</td>\n",
       "      <td>NaN</td>\n",
       "      <td>89.362357</td>\n",
       "      <td>87.579111</td>\n",
       "      <td>43.520526</td>\n",
       "      <td>60</td>\n",
       "      <td>30</td>\n",
       "      <td>30</td>\n",
       "      <td>(60, 30, 30)</td>\n",
       "    </tr>\n",
       "    <tr>\n",
       "      <td>4</td>\n",
       "      <td>NaN</td>\n",
       "      <td>202.553669</td>\n",
       "      <td>141.304662</td>\n",
       "      <td>64.804900</td>\n",
       "      <td>40</td>\n",
       "      <td>60</td>\n",
       "      <td>50</td>\n",
       "      <td>(40, 60, 50)</td>\n",
       "    </tr>\n",
       "    <tr>\n",
       "      <td>...</td>\n",
       "      <td>...</td>\n",
       "      <td>...</td>\n",
       "      <td>...</td>\n",
       "      <td>...</td>\n",
       "      <td>...</td>\n",
       "      <td>...</td>\n",
       "      <td>...</td>\n",
       "      <td>...</td>\n",
       "    </tr>\n",
       "    <tr>\n",
       "      <td>300</td>\n",
       "      <td>NaN</td>\n",
       "      <td>209.909930</td>\n",
       "      <td>8.682996</td>\n",
       "      <td>4.773038</td>\n",
       "      <td>0</td>\n",
       "      <td>100</td>\n",
       "      <td>40</td>\n",
       "      <td>(0, 100, 40)</td>\n",
       "    </tr>\n",
       "    <tr>\n",
       "      <td>301</td>\n",
       "      <td>NaN</td>\n",
       "      <td>197.193392</td>\n",
       "      <td>29.152129</td>\n",
       "      <td>36.604115</td>\n",
       "      <td>360</td>\n",
       "      <td>70</td>\n",
       "      <td>40</td>\n",
       "      <td>(360, 70, 40)</td>\n",
       "    </tr>\n",
       "    <tr>\n",
       "      <td>302</td>\n",
       "      <td>NaN</td>\n",
       "      <td>124.109855</td>\n",
       "      <td>70.066957</td>\n",
       "      <td>41.722703</td>\n",
       "      <td>20</td>\n",
       "      <td>50</td>\n",
       "      <td>30</td>\n",
       "      <td>(20, 50, 30)</td>\n",
       "    </tr>\n",
       "    <tr>\n",
       "      <td>303</td>\n",
       "      <td>NaN</td>\n",
       "      <td>32.705779</td>\n",
       "      <td>130.822406</td>\n",
       "      <td>53.630137</td>\n",
       "      <td>140</td>\n",
       "      <td>60</td>\n",
       "      <td>30</td>\n",
       "      <td>(140, 60, 30)</td>\n",
       "    </tr>\n",
       "    <tr>\n",
       "      <td>304</td>\n",
       "      <td>NaN</td>\n",
       "      <td>201.510023</td>\n",
       "      <td>107.802969</td>\n",
       "      <td>51.387431</td>\n",
       "      <td>20</td>\n",
       "      <td>60</td>\n",
       "      <td>50</td>\n",
       "      <td>(20, 60, 50)</td>\n",
       "    </tr>\n",
       "  </tbody>\n",
       "</table>\n",
       "<p>305 rows × 8 columns</p>\n",
       "</div>"
      ],
      "text/plain": [
       "     Image           R           G           B    H    S   L            HSL\n",
       "0      NaN  144.403221   93.195444   52.357260   20   50  40   (20, 50, 40)\n",
       "1      NaN  223.474224  215.881888  205.600926   40   20  80   (40, 20, 80)\n",
       "2      NaN  237.566201  232.551368  216.985598   40   40  90   (40, 40, 90)\n",
       "3      NaN   89.362357   87.579111   43.520526   60   30  30   (60, 30, 30)\n",
       "4      NaN  202.553669  141.304662   64.804900   40   60  50   (40, 60, 50)\n",
       "..     ...         ...         ...         ...  ...  ...  ..            ...\n",
       "300    NaN  209.909930    8.682996    4.773038    0  100  40   (0, 100, 40)\n",
       "301    NaN  197.193392   29.152129   36.604115  360   70  40  (360, 70, 40)\n",
       "302    NaN  124.109855   70.066957   41.722703   20   50  30   (20, 50, 30)\n",
       "303    NaN   32.705779  130.822406   53.630137  140   60  30  (140, 60, 30)\n",
       "304    NaN  201.510023  107.802969   51.387431   20   60  50   (20, 60, 50)\n",
       "\n",
       "[305 rows x 8 columns]"
      ]
     },
     "execution_count": 22,
     "metadata": {},
     "output_type": "execute_result"
    }
   ],
   "source": [
    "data"
   ]
  },
  {
   "cell_type": "markdown",
   "metadata": {},
   "source": [
    "Here are the HSL values of the top 20 most used colors of the Instagram page."
   ]
  },
  {
   "cell_type": "code",
   "execution_count": 23,
   "metadata": {},
   "outputs": [
    {
     "data": {
      "text/plain": [
       "(20, 50, 50)    13\n",
       "(40, 60, 60)    11\n",
       "(20, 60, 20)    11\n",
       "(20, 40, 50)     9\n",
       "(20, 50, 40)     8\n",
       "(20, 50, 20)     6\n",
       "(40, 50, 90)     6\n",
       "(20, 70, 20)     5\n",
       "(40, 50, 50)     5\n",
       "(40, 90, 50)     5\n",
       "(20, 40, 40)     5\n",
       "(20, 60, 50)     5\n",
       "(20, 40, 20)     5\n",
       "(20, 60, 30)     4\n",
       "(40, 40, 90)     4\n",
       "(40, 70, 60)     3\n",
       "(40, 30, 90)     3\n",
       "(40, 60, 70)     3\n",
       "(0, 100, 40)     3\n",
       "(20, 40, 60)     3\n",
       "Name: HSL, dtype: int64"
      ]
     },
     "execution_count": 23,
     "metadata": {},
     "output_type": "execute_result"
    }
   ],
   "source": [
    "data['HSL'].value_counts().head(20)"
   ]
  },
  {
   "cell_type": "code",
   "execution_count": 24,
   "metadata": {},
   "outputs": [
    {
     "data": {
      "text/plain": [
       "159"
      ]
     },
     "execution_count": 24,
     "metadata": {},
     "output_type": "execute_result"
    }
   ],
   "source": [
    "data['HSL'].nunique()"
   ]
  },
  {
   "cell_type": "markdown",
   "metadata": {},
   "source": [
    "In here, I need to re-translate the HSL values to RGB values because the donut chart later is not able to understand HSL coordinates."
   ]
  },
  {
   "cell_type": "code",
   "execution_count": 25,
   "metadata": {},
   "outputs": [],
   "source": [
    "def hsl_to_rgb(a,b,c):\n",
    "    value = tuple([round(x,2) for x in cs.hls_to_rgb(a/360, b/100, c/100)])\n",
    "    return value"
   ]
  },
  {
   "cell_type": "code",
   "execution_count": 26,
   "metadata": {},
   "outputs": [],
   "source": [
    "data['RGB rework'] = ''\n",
    "\n",
    "for i in range(0,len(data)):\n",
    "    data['RGB rework'].loc[i] = hsl_to_rgb(data['H'].loc[i],data['L'].loc[i],data['S'].loc[i])"
   ]
  },
  {
   "cell_type": "code",
   "execution_count": 27,
   "metadata": {},
   "outputs": [
    {
     "data": {
      "text/html": [
       "<div>\n",
       "<style scoped>\n",
       "    .dataframe tbody tr th:only-of-type {\n",
       "        vertical-align: middle;\n",
       "    }\n",
       "\n",
       "    .dataframe tbody tr th {\n",
       "        vertical-align: top;\n",
       "    }\n",
       "\n",
       "    .dataframe thead th {\n",
       "        text-align: right;\n",
       "    }\n",
       "</style>\n",
       "<table border=\"1\" class=\"dataframe\">\n",
       "  <thead>\n",
       "    <tr style=\"text-align: right;\">\n",
       "      <th></th>\n",
       "      <th>Image</th>\n",
       "      <th>R</th>\n",
       "      <th>G</th>\n",
       "      <th>B</th>\n",
       "      <th>H</th>\n",
       "      <th>S</th>\n",
       "      <th>L</th>\n",
       "      <th>HSL</th>\n",
       "      <th>RGB rework</th>\n",
       "    </tr>\n",
       "  </thead>\n",
       "  <tbody>\n",
       "    <tr>\n",
       "      <td>0</td>\n",
       "      <td>NaN</td>\n",
       "      <td>144.403221</td>\n",
       "      <td>93.195444</td>\n",
       "      <td>52.357260</td>\n",
       "      <td>20</td>\n",
       "      <td>50</td>\n",
       "      <td>40</td>\n",
       "      <td>(20, 50, 40)</td>\n",
       "      <td>(0.6, 0.33, 0.2)</td>\n",
       "    </tr>\n",
       "    <tr>\n",
       "      <td>1</td>\n",
       "      <td>NaN</td>\n",
       "      <td>223.474224</td>\n",
       "      <td>215.881888</td>\n",
       "      <td>205.600926</td>\n",
       "      <td>40</td>\n",
       "      <td>20</td>\n",
       "      <td>80</td>\n",
       "      <td>(40, 20, 80)</td>\n",
       "      <td>(0.84, 0.81, 0.76)</td>\n",
       "    </tr>\n",
       "    <tr>\n",
       "      <td>2</td>\n",
       "      <td>NaN</td>\n",
       "      <td>237.566201</td>\n",
       "      <td>232.551368</td>\n",
       "      <td>216.985598</td>\n",
       "      <td>40</td>\n",
       "      <td>40</td>\n",
       "      <td>90</td>\n",
       "      <td>(40, 40, 90)</td>\n",
       "      <td>(0.94, 0.91, 0.86)</td>\n",
       "    </tr>\n",
       "    <tr>\n",
       "      <td>3</td>\n",
       "      <td>NaN</td>\n",
       "      <td>89.362357</td>\n",
       "      <td>87.579111</td>\n",
       "      <td>43.520526</td>\n",
       "      <td>60</td>\n",
       "      <td>30</td>\n",
       "      <td>30</td>\n",
       "      <td>(60, 30, 30)</td>\n",
       "      <td>(0.39, 0.39, 0.21)</td>\n",
       "    </tr>\n",
       "    <tr>\n",
       "      <td>4</td>\n",
       "      <td>NaN</td>\n",
       "      <td>202.553669</td>\n",
       "      <td>141.304662</td>\n",
       "      <td>64.804900</td>\n",
       "      <td>40</td>\n",
       "      <td>60</td>\n",
       "      <td>50</td>\n",
       "      <td>(40, 60, 50)</td>\n",
       "      <td>(0.8, 0.6, 0.2)</td>\n",
       "    </tr>\n",
       "    <tr>\n",
       "      <td>...</td>\n",
       "      <td>...</td>\n",
       "      <td>...</td>\n",
       "      <td>...</td>\n",
       "      <td>...</td>\n",
       "      <td>...</td>\n",
       "      <td>...</td>\n",
       "      <td>...</td>\n",
       "      <td>...</td>\n",
       "      <td>...</td>\n",
       "    </tr>\n",
       "    <tr>\n",
       "      <td>300</td>\n",
       "      <td>NaN</td>\n",
       "      <td>209.909930</td>\n",
       "      <td>8.682996</td>\n",
       "      <td>4.773038</td>\n",
       "      <td>0</td>\n",
       "      <td>100</td>\n",
       "      <td>40</td>\n",
       "      <td>(0, 100, 40)</td>\n",
       "      <td>(0.8, 0.0, 0.0)</td>\n",
       "    </tr>\n",
       "    <tr>\n",
       "      <td>301</td>\n",
       "      <td>NaN</td>\n",
       "      <td>197.193392</td>\n",
       "      <td>29.152129</td>\n",
       "      <td>36.604115</td>\n",
       "      <td>360</td>\n",
       "      <td>70</td>\n",
       "      <td>40</td>\n",
       "      <td>(360, 70, 40)</td>\n",
       "      <td>(0.68, 0.12, 0.12)</td>\n",
       "    </tr>\n",
       "    <tr>\n",
       "      <td>302</td>\n",
       "      <td>NaN</td>\n",
       "      <td>124.109855</td>\n",
       "      <td>70.066957</td>\n",
       "      <td>41.722703</td>\n",
       "      <td>20</td>\n",
       "      <td>50</td>\n",
       "      <td>30</td>\n",
       "      <td>(20, 50, 30)</td>\n",
       "      <td>(0.45, 0.25, 0.15)</td>\n",
       "    </tr>\n",
       "    <tr>\n",
       "      <td>303</td>\n",
       "      <td>NaN</td>\n",
       "      <td>32.705779</td>\n",
       "      <td>130.822406</td>\n",
       "      <td>53.630137</td>\n",
       "      <td>140</td>\n",
       "      <td>60</td>\n",
       "      <td>30</td>\n",
       "      <td>(140, 60, 30)</td>\n",
       "      <td>(0.12, 0.48, 0.24)</td>\n",
       "    </tr>\n",
       "    <tr>\n",
       "      <td>304</td>\n",
       "      <td>NaN</td>\n",
       "      <td>201.510023</td>\n",
       "      <td>107.802969</td>\n",
       "      <td>51.387431</td>\n",
       "      <td>20</td>\n",
       "      <td>60</td>\n",
       "      <td>50</td>\n",
       "      <td>(20, 60, 50)</td>\n",
       "      <td>(0.8, 0.4, 0.2)</td>\n",
       "    </tr>\n",
       "  </tbody>\n",
       "</table>\n",
       "<p>305 rows × 9 columns</p>\n",
       "</div>"
      ],
      "text/plain": [
       "     Image           R           G           B    H    S   L            HSL  \\\n",
       "0      NaN  144.403221   93.195444   52.357260   20   50  40   (20, 50, 40)   \n",
       "1      NaN  223.474224  215.881888  205.600926   40   20  80   (40, 20, 80)   \n",
       "2      NaN  237.566201  232.551368  216.985598   40   40  90   (40, 40, 90)   \n",
       "3      NaN   89.362357   87.579111   43.520526   60   30  30   (60, 30, 30)   \n",
       "4      NaN  202.553669  141.304662   64.804900   40   60  50   (40, 60, 50)   \n",
       "..     ...         ...         ...         ...  ...  ...  ..            ...   \n",
       "300    NaN  209.909930    8.682996    4.773038    0  100  40   (0, 100, 40)   \n",
       "301    NaN  197.193392   29.152129   36.604115  360   70  40  (360, 70, 40)   \n",
       "302    NaN  124.109855   70.066957   41.722703   20   50  30   (20, 50, 30)   \n",
       "303    NaN   32.705779  130.822406   53.630137  140   60  30  (140, 60, 30)   \n",
       "304    NaN  201.510023  107.802969   51.387431   20   60  50   (20, 60, 50)   \n",
       "\n",
       "             RGB rework  \n",
       "0      (0.6, 0.33, 0.2)  \n",
       "1    (0.84, 0.81, 0.76)  \n",
       "2    (0.94, 0.91, 0.86)  \n",
       "3    (0.39, 0.39, 0.21)  \n",
       "4       (0.8, 0.6, 0.2)  \n",
       "..                  ...  \n",
       "300     (0.8, 0.0, 0.0)  \n",
       "301  (0.68, 0.12, 0.12)  \n",
       "302  (0.45, 0.25, 0.15)  \n",
       "303  (0.12, 0.48, 0.24)  \n",
       "304     (0.8, 0.4, 0.2)  \n",
       "\n",
       "[305 rows x 9 columns]"
      ]
     },
     "execution_count": 27,
     "metadata": {},
     "output_type": "execute_result"
    }
   ],
   "source": [
    "data"
   ]
  },
  {
   "cell_type": "code",
   "execution_count": 28,
   "metadata": {},
   "outputs": [
    {
     "data": {
      "text/plain": [
       "(0.75, 0.42, 0.25)    13\n",
       "(0.32, 0.16, 0.08)    11\n",
       "(0.84, 0.68, 0.36)    11\n",
       "(0.0, 0.0, 0.0)        9\n",
       "(0.7, 0.43, 0.3)       9\n",
       "                      ..\n",
       "(0.95, 0.88, 0.85)     1\n",
       "(0.12, 0.08, 0.12)     1\n",
       "(0.84, 0.79, 0.76)     1\n",
       "(0.11, 0.11, 0.09)     1\n",
       "(0.21, 0.22, 0.18)     1\n",
       "Name: RGB rework, Length: 143, dtype: int64"
      ]
     },
     "execution_count": 28,
     "metadata": {},
     "output_type": "execute_result"
    }
   ],
   "source": [
    "data['RGB rework'].value_counts()"
   ]
  },
  {
   "cell_type": "code",
   "execution_count": 29,
   "metadata": {},
   "outputs": [],
   "source": [
    "data_color_count = pd.DataFrame(data['RGB rework'].value_counts()).reset_index()\n",
    "data_color_count.columns = ['RGB colors', 'Count']"
   ]
  },
  {
   "cell_type": "code",
   "execution_count": 30,
   "metadata": {},
   "outputs": [
    {
     "data": {
      "text/html": [
       "<div>\n",
       "<style scoped>\n",
       "    .dataframe tbody tr th:only-of-type {\n",
       "        vertical-align: middle;\n",
       "    }\n",
       "\n",
       "    .dataframe tbody tr th {\n",
       "        vertical-align: top;\n",
       "    }\n",
       "\n",
       "    .dataframe thead th {\n",
       "        text-align: right;\n",
       "    }\n",
       "</style>\n",
       "<table border=\"1\" class=\"dataframe\">\n",
       "  <thead>\n",
       "    <tr style=\"text-align: right;\">\n",
       "      <th></th>\n",
       "      <th>RGB colors</th>\n",
       "      <th>Count</th>\n",
       "    </tr>\n",
       "  </thead>\n",
       "  <tbody>\n",
       "    <tr>\n",
       "      <td>0</td>\n",
       "      <td>(0.75, 0.42, 0.25)</td>\n",
       "      <td>13</td>\n",
       "    </tr>\n",
       "    <tr>\n",
       "      <td>1</td>\n",
       "      <td>(0.32, 0.16, 0.08)</td>\n",
       "      <td>11</td>\n",
       "    </tr>\n",
       "    <tr>\n",
       "      <td>2</td>\n",
       "      <td>(0.84, 0.68, 0.36)</td>\n",
       "      <td>11</td>\n",
       "    </tr>\n",
       "    <tr>\n",
       "      <td>3</td>\n",
       "      <td>(0.0, 0.0, 0.0)</td>\n",
       "      <td>9</td>\n",
       "    </tr>\n",
       "    <tr>\n",
       "      <td>4</td>\n",
       "      <td>(0.7, 0.43, 0.3)</td>\n",
       "      <td>9</td>\n",
       "    </tr>\n",
       "    <tr>\n",
       "      <td>...</td>\n",
       "      <td>...</td>\n",
       "      <td>...</td>\n",
       "    </tr>\n",
       "    <tr>\n",
       "      <td>138</td>\n",
       "      <td>(0.95, 0.88, 0.85)</td>\n",
       "      <td>1</td>\n",
       "    </tr>\n",
       "    <tr>\n",
       "      <td>139</td>\n",
       "      <td>(0.12, 0.08, 0.12)</td>\n",
       "      <td>1</td>\n",
       "    </tr>\n",
       "    <tr>\n",
       "      <td>140</td>\n",
       "      <td>(0.84, 0.79, 0.76)</td>\n",
       "      <td>1</td>\n",
       "    </tr>\n",
       "    <tr>\n",
       "      <td>141</td>\n",
       "      <td>(0.11, 0.11, 0.09)</td>\n",
       "      <td>1</td>\n",
       "    </tr>\n",
       "    <tr>\n",
       "      <td>142</td>\n",
       "      <td>(0.21, 0.22, 0.18)</td>\n",
       "      <td>1</td>\n",
       "    </tr>\n",
       "  </tbody>\n",
       "</table>\n",
       "<p>143 rows × 2 columns</p>\n",
       "</div>"
      ],
      "text/plain": [
       "             RGB colors  Count\n",
       "0    (0.75, 0.42, 0.25)     13\n",
       "1    (0.32, 0.16, 0.08)     11\n",
       "2    (0.84, 0.68, 0.36)     11\n",
       "3       (0.0, 0.0, 0.0)      9\n",
       "4      (0.7, 0.43, 0.3)      9\n",
       "..                  ...    ...\n",
       "138  (0.95, 0.88, 0.85)      1\n",
       "139  (0.12, 0.08, 0.12)      1\n",
       "140  (0.84, 0.79, 0.76)      1\n",
       "141  (0.11, 0.11, 0.09)      1\n",
       "142  (0.21, 0.22, 0.18)      1\n",
       "\n",
       "[143 rows x 2 columns]"
      ]
     },
     "execution_count": 30,
     "metadata": {},
     "output_type": "execute_result"
    }
   ],
   "source": [
    "data_color_count"
   ]
  },
  {
   "cell_type": "markdown",
   "metadata": {},
   "source": [
    "#### Pie chart creation"
   ]
  },
  {
   "cell_type": "code",
   "execution_count": 31,
   "metadata": {},
   "outputs": [
    {
     "data": {
      "image/png": "[encoded data removed]",
      "text/plain": [
       "<Figure size 432x288 with 1 Axes>"
      ]
     },
     "metadata": {},
     "output_type": "display_data"
    }
   ],
   "source": [
    "# Pie chart\n",
    "sizes = list(data_color_count['Count'].head(20))\n",
    "#colors\n",
    "colors = list(data_color_count['RGB colors'].head(20))\n",
    "fig1, ax1 = plt.subplots()\n",
    "\n",
    "def make_autopct(values):\n",
    "    def my_autopct(pct):\n",
    "        total = sum(values)\n",
    "        val = int(round(pct*total/100.0))\n",
    "        return '{v:d}'.format(p=pct,v=val)\n",
    "    return my_autopct\n",
    "\n",
    "ax1.pie(sizes, colors = colors, autopct=make_autopct(sizes), startangle=90)\n",
    "#draw circle\n",
    "centre_circle = plt.Circle((0,0),0.70,fc='white')\n",
    "fig = plt.gcf()\n",
    "fig.gca().add_artist(centre_circle)\n",
    "# Equal aspect ratio ensures that pie is drawn as a circle\n",
    "ax1.axis('equal')  \n",
    "plt.tight_layout()\n",
    "plt.savefig(IG_page_name+'_plot.png')\n",
    "plt.show()"
   ]
  },
  {
   "cell_type": "markdown",
   "metadata": {},
   "source": [
    "I hope you will find this project useful!\n",
    "\n",
    "https://github.com/SalimAmarti\n",
    "\n",
    "**Salim Amarti**"
   ]
  },
  {
   "cell_type": "code",
   "execution_count": null,
   "metadata": {},
   "outputs": [],
   "source": []
  }
 ],
 "metadata": {
  "kernelspec": {
   "display_name": "Python 3",
   "language": "python",
   "name": "python3"
  },
  "language_info": {
   "codemirror_mode": {
    "name": "ipython",
    "version": 3
   },
   "file_extension": ".py",
   "mimetype": "text/x-python",
   "name": "python",
   "nbconvert_exporter": "python",
   "pygments_lexer": "ipython3",
   "version": "3.7.4"
  }
 },
 "nbformat": 4,
 "nbformat_minor": 2
}
